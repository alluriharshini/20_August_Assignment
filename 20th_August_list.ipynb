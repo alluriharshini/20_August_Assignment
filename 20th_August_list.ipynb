{
 "cells": [
  {
   "cell_type": "code",
   "execution_count": 3,
   "id": "1aba7322-bac2-434c-9502-7d5ce71a4583",
   "metadata": {},
   "outputs": [
    {
     "data": {
      "text/plain": [
       "list"
      ]
     },
     "execution_count": 3,
     "metadata": {},
     "output_type": "execute_result"
    }
   ],
   "source": [
    "s=[1,2,3,4,5,6,7,8,9,10]\n",
    "type(s)"
   ]
  },
  {
   "cell_type": "code",
   "execution_count": 46,
   "id": "7fd8b72e-2db8-4fac-a967-ecb6f76d57d7",
   "metadata": {},
   "outputs": [
    {
     "name": "stdin",
     "output_type": "stream",
     "text": [
      "Enter a string: harshini is studying data science\n"
     ]
    },
    {
     "name": "stdout",
     "output_type": "stream",
     "text": [
      "length of the string without using 'len' is : 33\n"
     ]
    }
   ],
   "source": [
    "a=list(input(\"Enter a string:\"))\n",
    "count=0\n",
    "#using loop to get the length of the string\n",
    "for i in a:\n",
    "    count +=1\n",
    "print(\"length of the string without using 'len' is :\",count)    "
   ]
  },
  {
   "cell_type": "code",
   "execution_count": 47,
   "id": "abac0d12-e018-4a66-bf01-917d0c0bf517",
   "metadata": {},
   "outputs": [
    {
     "name": "stdout",
     "output_type": "stream",
     "text": [
      "list before appending: ['kamareddy', 'hyderabad', 'bangalore']\n"
     ]
    },
    {
     "name": "stdin",
     "output_type": "stream",
     "text": [
      "enter an element to append: america\n"
     ]
    },
    {
     "name": "stdout",
     "output_type": "stream",
     "text": [
      "string after append: ['kamareddy', 'hyderabad', 'bangalore', 'america']\n"
     ]
    }
   ],
   "source": [
    "a =['kamareddy','hyderabad','bangalore']\n",
    "print(\"list before appending:\",a)\n",
    "#by using append() we can add an element in the last of the list\n",
    "a.append(input(\"enter an element to append:\"))\n",
    "print(\"string after append:\",a)"
   ]
  },
  {
   "cell_type": "code",
   "execution_count": 48,
   "id": "ec1e46b8-0e21-4d00-9040-4bc6d46acfdc",
   "metadata": {},
   "outputs": [
    {
     "name": "stdout",
     "output_type": "stream",
     "text": [
      "list before inter ['u', 'o', 'p', 'tt']\n",
      "l after insert: ['u', 'o', 'is', 'p', 'tt']\n"
     ]
    }
   ],
   "source": [
    "l = ['u','o','p','tt']\n",
    "print(\"list before inter\",l)\n",
    "l.insert(2,'is')\n",
    "#by using insert() we can add an element any where in the list\n",
    "print(\"l after insert:\",l)"
   ]
  },
  {
   "cell_type": "code",
   "execution_count": 49,
   "id": "8b486d5c-a36f-4572-82e2-5a1f1408d20c",
   "metadata": {},
   "outputs": [
    {
     "name": "stdout",
     "output_type": "stream",
     "text": [
      "list before removing an element: [1, 3, 7, 9, 4, 5]\n",
      "list after removing an element: [1, 7, 9, 4, 5]\n"
     ]
    }
   ],
   "source": [
    "p=[1,3,7,9,4,5]\n",
    "print('list before removing an element:',p)\n",
    "p.remove(3)\n",
    "#by using remove() we can remove any of the element in the list\n",
    "print('list after removing an element:',p)"
   ]
  },
  {
   "cell_type": "code",
   "execution_count": 50,
   "id": "b6574da8-fb7a-4aac-9c60-66fac7ed52f5",
   "metadata": {},
   "outputs": [
    {
     "name": "stdout",
     "output_type": "stream",
     "text": [
      "list before removing an element usin index: [222, 33, 44, 5567, 543]\n",
      "list after removing an element using index: [222, 44, 5567, 543]\n"
     ]
    }
   ],
   "source": [
    "k=[222,33,44,5567,543]\n",
    "print(\"list before removing an element usin index:\",k)\n",
    "k.pop(1)\n",
    "#by using pop() we can remove element of the list with index\n",
    "print(\"list after removing an element using index:\",k)"
   ]
  },
  {
   "cell_type": "code",
   "execution_count": 59,
   "id": "2ec12a5c-9fa7-4154-9e35-1c4fa4e2a4f0",
   "metadata": {},
   "outputs": [
    {
     "name": "stdin",
     "output_type": "stream",
     "text": [
      "enter an element to check: w\n"
     ]
    },
    {
     "name": "stdout",
     "output_type": "stream",
     "text": [
      "element W is not present in the list h\n"
     ]
    }
   ],
   "source": [
    "h=['harshini','is','a','girl']\n",
    "i=input(\"enter an element to check:\")\n",
    "#by using if condition and checking the element present in the list or not \n",
    "if i in h:\n",
    "        print(\"element\",i.upper(),\"is present in the list h\")\n",
    "else:\n",
    "        print(\"element\",i.upper(),\"is not present in the list h\")"
   ]
  },
  {
   "cell_type": "code",
   "execution_count": 60,
   "id": "0fefb1d8-b909-4cfc-8f38-52e5f9464c88",
   "metadata": {},
   "outputs": [
    {
     "name": "stdout",
     "output_type": "stream",
     "text": [
      "index of Studies is 3\n"
     ]
    }
   ],
   "source": [
    "pk=['Code', 'datascience', 'Machine Learning', 'python', 'Studies', 'java', 'javascript','python']\n",
    "print(\"index of Studies is\",pk.index('python'))\n",
    "#by using index() we can get the first occorence of the element"
   ]
  },
  {
   "cell_type": "code",
   "execution_count": 61,
   "id": "b0bfea73-b53a-4519-b628-e213b7435222",
   "metadata": {},
   "outputs": [
    {
     "name": "stdout",
     "output_type": "stream",
     "text": [
      "['Code', 'datascience', 'Machine Learning', 'python', 'Studies', 'java', 'python']\n",
      "count of python is 2\n"
     ]
    }
   ],
   "source": [
    "kk=['Code', 'datascience', 'Machine Learning', 'python', 'Studies', 'java', 'python']\n",
    "print(kk)\n",
    "print(\"count of python is\",kk.count('python'))\n",
    "#by using count() we can get the number of occurences of the element"
   ]
  },
  {
   "cell_type": "code",
   "execution_count": 62,
   "id": "9a173f96-d1e8-4fac-9540-d93de12af4c7",
   "metadata": {},
   "outputs": [
    {
     "name": "stdout",
     "output_type": "stream",
     "text": [
      "['Code', 'datascience', 'Machine Learning', 'python', 'Studies', 'java', 'python']\n",
      "reversed string is : ['python', 'java', 'Studies', 'python', 'Machine Learning', 'datascience', 'Code']\n"
     ]
    }
   ],
   "source": [
    "kl=['Code', 'datascience', 'Machine Learning', 'python', 'Studies', 'java', 'python']\n",
    "print(kl)\n",
    "print(\"reversed string is :\",kl[::-1])\n",
    "#"
   ]
  },
  {
   "cell_type": "code",
   "execution_count": 20,
   "id": "2be18a79-c156-48c3-8180-a5044b2312af",
   "metadata": {},
   "outputs": [
    {
     "name": "stdout",
     "output_type": "stream",
     "text": [
      "[3, 6, 9, 22, 55, 88]\n"
     ]
    }
   ],
   "source": [
    "numbers = [22,3,55,6,88,9]\n",
    "numbers.sort()\n",
    "print(numbers)"
   ]
  },
  {
   "cell_type": "code",
   "execution_count": 21,
   "id": "d3f4d940-cda7-4eb3-9717-4f5ffe4f2862",
   "metadata": {},
   "outputs": [
    {
     "name": "stdout",
     "output_type": "stream",
     "text": [
      "[44, 43, 32, 7, 3, 1]\n"
     ]
    }
   ],
   "source": [
    "numberlist=[44,32,1,3,43,7]\n",
    "numberlist.sort(reverse=True)\n",
    "print(numberlist)"
   ]
  },
  {
   "cell_type": "code",
   "execution_count": 37,
   "id": "eb1c7543-f5f9-4bc3-b81f-4a58c4553afc",
   "metadata": {},
   "outputs": [
    {
     "name": "stdin",
     "output_type": "stream",
     "text": [
      "Enter the start of range:  1\n",
      "Enter the end of range:  20\n"
     ]
    },
    {
     "name": "stdout",
     "output_type": "stream",
     "text": [
      "2 4 6 8 10 12 14 16 18 20 "
     ]
    }
   ],
   "source": [
    "start = int(input(\"Enter the start of range: \"))\n",
    "end = int(input(\"Enter the end of range: \"))\n",
    "for num in range(start, end + 1):\n",
    "    # checking condition\n",
    "    if num % 2 == 0:\n",
    "        print(num, end=\" \")"
   ]
  },
  {
   "cell_type": "code",
   "execution_count": 10,
   "id": "df68c037-149b-4d7b-8796-f6f576fb539b",
   "metadata": {},
   "outputs": [
    {
     "name": "stdin",
     "output_type": "stream",
     "text": [
      "Enter the start of range:  1\n",
      "Enter the end of range:  20\n"
     ]
    },
    {
     "name": "stdout",
     "output_type": "stream",
     "text": [
      "1 3 5 7 9 11 13 15 17 19 "
     ]
    }
   ],
   "source": [
    "start =int(input(\"Enter the start of range: \"))\n",
    "end =int(input(\"Enter the end of range: \"))\n",
    "for num in range(start, end + 1):\n",
    "    # checking condition\n",
    "    if num % 2!=0:\n",
    "        print(num, end=\" \")"
   ]
  },
  {
   "cell_type": "code",
   "execution_count": 81,
   "id": "ae7caef2-b650-48f1-9adf-df62290a7dcc",
   "metadata": {},
   "outputs": [
    {
     "name": "stdin",
     "output_type": "stream",
     "text": [
      "enter a input 1,2,3,4\n"
     ]
    },
    {
     "name": "stdout",
     "output_type": "stream",
     "text": [
      "Sum of elements in the list is: 10\n"
     ]
    }
   ],
   "source": [
    "ko=input(\"enter a input\")\n",
    "d=list(map(int,ko.split(',')))\n",
    "print(\"Sum of elements in the list is:\",sum(d))"
   ]
  },
  {
   "cell_type": "code",
   "execution_count": 84,
   "id": "058d38c5-d5de-4171-ad1a-0ece332fc785",
   "metadata": {},
   "outputs": [
    {
     "name": "stdin",
     "output_type": "stream",
     "text": [
      "Enter an input : 22,3,44\n"
     ]
    },
    {
     "name": "stdout",
     "output_type": "stream",
     "text": [
      "max number in the list is : 44\n"
     ]
    }
   ],
   "source": [
    "kk=input(\"Enter an input :\")\n",
    "dd=list(map(int,kk.split(',')))\n",
    "print(\"max number in the list is :\",max(dd))"
   ]
  },
  {
   "cell_type": "code",
   "execution_count": 85,
   "id": "5003e089-7458-4414-9796-15d9b3f3d41f",
   "metadata": {},
   "outputs": [
    {
     "name": "stdin",
     "output_type": "stream",
     "text": [
      "Enter an input : 12,3,45,5,0\n"
     ]
    },
    {
     "name": "stdout",
     "output_type": "stream",
     "text": [
      "max number in the list is : 0\n"
     ]
    }
   ],
   "source": [
    "kk=input(\"Enter an input :\")\n",
    "dd=list(map(int,kk.split(',')))\n",
    "print(\"max number in the list is :\",min(dd))"
   ]
  },
  {
   "cell_type": "code",
   "execution_count": 40,
   "id": "26c8df5e-5206-4210-a2d7-b3a2006f50aa",
   "metadata": {},
   "outputs": [
    {
     "name": "stdin",
     "output_type": "stream",
     "text": [
      "Enter the start of range:  1\n",
      "Enter the end of range:  10\n"
     ]
    },
    {
     "name": "stdout",
     "output_type": "stream",
     "text": [
      "[1, 4, 9, 16, 25, 36, 49, 64, 81, 100]\n"
     ]
    }
   ],
   "source": [
    "stw =int(input(\"Enter the start of range: \"))\n",
    "en =int(input(\"Enter the end of range: \"))\n",
    "nums=[]\n",
    "for f in range(stw, en + 1):\n",
    "    x=f*f\n",
    "    nums.append(x)\n",
    "print(nums)"
   ]
  },
  {
   "cell_type": "code",
   "execution_count": 3,
   "id": "ac6ac21b-659b-44e3-a8cc-f7d8a1695fd5",
   "metadata": {},
   "outputs": [
    {
     "name": "stdout",
     "output_type": "stream",
     "text": [
      "Random number list is :  [86, 16, 51, 93, 88, 54, 68, 81]\n"
     ]
    }
   ],
   "source": [
    "import random\n",
    "res = random.sample(range(1, 100), 8)\n",
    "# using random.sample()\n",
    "# to generate random number list\n",
    "# printing result\n",
    "print (\"Random number list is : \", str(res))"
   ]
  },
  {
   "cell_type": "code",
   "execution_count": 69,
   "id": "2c59fd2c-c5ac-48a9-bc35-bc49fdc5b62a",
   "metadata": {},
   "outputs": [
    {
     "name": "stdin",
     "output_type": "stream",
     "text": [
      "Enter a list: 1,2,33,44,55,2,1\n"
     ]
    },
    {
     "name": "stdout",
     "output_type": "stream",
     "text": [
      "List after removing the duplicates: ['1', '2', '33', '44', '55']\n"
     ]
    }
   ],
   "source": [
    "hyd=input(\"Enter a list:\")\n",
    "ssr=hyd.split(',')\n",
    "kmr=list(dict.fromkeys(ssr))\n",
    "print(\"List after removing the duplicates:\",kmr)"
   ]
  },
  {
   "cell_type": "code",
   "execution_count": 2,
   "id": "104ff0b1-c785-488f-a04d-e014d6ed0911",
   "metadata": {},
   "outputs": [
    {
     "name": "stdin",
     "output_type": "stream",
     "text": [
      "Enter a list1: 11,223,4444,5,67,\n",
      "Enter a list2: 11,223,1,2,3,4\n"
     ]
    },
    {
     "name": "stdout",
     "output_type": "stream",
     "text": [
      "Common elements are : ['11', '223']\n"
     ]
    }
   ],
   "source": [
    "kom=input(\"Enter a list1:\")\n",
    "kom1=list(kom.split(','))\n",
    "gachi=input(\"Enter a list2:\")\n",
    "gachi1=list(gachi.split(','))\n",
    "ee=[]\n",
    "for i in kom1:\n",
    "        if i in gachi1:\n",
    "                ee.append(i)\n",
    "print(\"Common elements are :\",ee)\n",
    "                "
   ]
  },
  {
   "cell_type": "code",
   "execution_count": 24,
   "id": "2fb99d05-7353-41fe-a8b4-101c41ccf8db",
   "metadata": {},
   "outputs": [
    {
     "name": "stdout",
     "output_type": "stream",
     "text": [
      "[11, 23, 45]\n"
     ]
    }
   ],
   "source": [
    "job1=[5,6,7,11,23,45]\n",
    "job=[2,5,6,7,8,90]\n",
    "result=[]\n",
    "for i in job1:\n",
    "    if i not in job:\n",
    "        result.append(i)\n",
    "print(result)"
   ]
  },
  {
   "cell_type": "code",
   "execution_count": 2,
   "id": "19601a89-35d4-4b2c-8ae7-42b58ba9b600",
   "metadata": {},
   "outputs": [
    {
     "name": "stdout",
     "output_type": "stream",
     "text": [
      "['a', 'd', 'f', 'b', 's', 'j']\n"
     ]
    }
   ],
   "source": [
    "job2=['a','d','f']\n",
    "job4=['b','s','j']\n",
    "rrr=job2+job4\n",
    "print(rrr)"
   ]
  },
  {
   "cell_type": "code",
   "execution_count": 27,
   "id": "ea9740af-1432-424b-92e7-99ae0c588b85",
   "metadata": {},
   "outputs": [
    {
     "name": "stdout",
     "output_type": "stream",
     "text": [
      "[25, 60, 65, 70, 75]\n"
     ]
    }
   ],
   "source": [
    "mylist = [5, 12, 13, 14,15]\n",
    "new_list = [i * 5 for i in mylist]\n",
    "print(new_list)"
   ]
  },
  {
   "cell_type": "code",
   "execution_count": 44,
   "id": "59ae1348-3a96-43ed-adb9-6d3b6b4c3717",
   "metadata": {},
   "outputs": [
    {
     "name": "stdin",
     "output_type": "stream",
     "text": [
      "Enter a input 1,2,22,3,4,52\n"
     ]
    },
    {
     "name": "stdout",
     "output_type": "stream",
     "text": [
      "List after removing the even numbers [1, 3]\n"
     ]
    }
   ],
   "source": [
    "listofevenno=input(\"Enter a input\")\n",
    "list5=list(map(int,listofevenno.split(',')))\n",
    "result=[]\n",
    "for num in list5:\n",
    "    if num%2!=0:\n",
    "        result.append(num)\n",
    "print(\"List after removing the even numbers\",result)    \n"
   ]
  },
  {
   "cell_type": "code",
   "execution_count": 23,
   "id": "73c870bc-90fd-4ab9-8abc-abf2aae979ae",
   "metadata": {},
   "outputs": [
    {
     "name": "stdin",
     "output_type": "stream",
     "text": [
      "List before converting into intergers: '1','2','3'\n"
     ]
    },
    {
     "name": "stdout",
     "output_type": "stream",
     "text": [
      "Modified list is : [1, 2, 3, 4]\n"
     ]
    }
   ],
   "source": [
    "t_list=input(\"List before converting into intergers:\")\n",
    "result=list(map(int,lis.split(',')))\n",
    "print(\"Modified list is :\",result)"
   ]
  },
  {
   "cell_type": "code",
   "execution_count": 24,
   "id": "804a674f-1c25-45f5-b61e-47e6073d00b7",
   "metadata": {},
   "outputs": [
    {
     "name": "stdin",
     "output_type": "stream",
     "text": [
      "List before converting into intergers: 1,2,3,4\n"
     ]
    },
    {
     "name": "stdout",
     "output_type": "stream",
     "text": [
      "Modified list is : ['1', '2', '3', '4']\n"
     ]
    }
   ],
   "source": [
    "lis = input(\"List before converting into intergers:\")\n",
    "#as input is already a string i have used map() function to convert user input into interger\n",
    "dd=list(map(int,lis.split(',')))\n",
    "print(\"Modified list is :\",[str(x) for x in dd])"
   ]
  },
  {
   "cell_type": "code",
   "execution_count": 32,
   "id": "7983e9db-b64f-43ca-ada1-c39d0ac394a8",
   "metadata": {},
   "outputs": [
    {
     "name": "stdout",
     "output_type": "stream",
     "text": [
      "The flated list is:  [1, 2, 3, 4, 5, 6, 7]\n"
     ]
    }
   ],
   "source": [
    "user_list = [[1], [2,3], [4, 5, 6, 7]]\n",
    "flat_list = [num for sublist in my_list for num in sublist]\n",
    "#Using list comprehension access the sublist from my_list, then access each element of the sublist\n",
    "print(\"The flated list is: \",flat_list)"
   ]
  },
  {
   "cell_type": "code",
   "execution_count": 64,
   "id": "577c5a1f-0d69-4f0b-8eda-c5d566f0d8fa",
   "metadata": {},
   "outputs": [
    {
     "name": "stdout",
     "output_type": "stream",
     "text": [
      "Fibonacci Series: 0 1 1 2 3 5 8 13 21 34 "
     ]
    }
   ],
   "source": [
    "dd = 10\n",
    "n1, n2 = 0, 1\n",
    "print(\"Fibonacci Series:\", n1, n2, end=\" \")\n",
    "for i in range(2, dd):\n",
    "    n3 = n1 + n2\n",
    "    n1 = n2\n",
    "    n2 = n3\n",
    "    print(n3, end=\" \")"
   ]
  },
  {
   "cell_type": "code",
   "execution_count": 2,
   "id": "4cb48120-cd21-49ec-9eee-e05c4bfc12e8",
   "metadata": {},
   "outputs": [
    {
     "name": "stdout",
     "output_type": "stream",
     "text": [
      "first list False\n",
      "Seconf list True\n"
     ]
    }
   ],
   "source": [
    "def is_sorted(lst):\n",
    "    for i in range(1,len(lst)):\n",
    "        if lst[i-1]>lst[i]:\n",
    "            return False\n",
    "    return True\n",
    "\n",
    "print('first list',is_sorted([1,2,3,4,7,6]))\n",
    "print('Seconf list',is_sorted([1,2,3,4,6]))\n"
   ]
  },
  {
   "cell_type": "code",
   "execution_count": 4,
   "id": "ffdb5ecd-3d00-4d9f-bfd1-4edba4de0259",
   "metadata": {},
   "outputs": [
    {
     "name": "stdout",
     "output_type": "stream",
     "text": [
      "[3, 4, 7, 1, 2]\n"
     ]
    }
   ],
   "source": [
    "def rotate_left(lst,n):\n",
    "    n=n%len(lst)\n",
    "    return lst[n:] + lst[:n]\n",
    "list_=[1,2,3,4,7]\n",
    "n=2\n",
    "rotate_list=rotate_left(list_,n)\n",
    "print(rotate_list)"
   ]
  },
  {
   "cell_type": "code",
   "execution_count": 6,
   "id": "584eb427-990e-4b64-9b42-56ac11cac800",
   "metadata": {},
   "outputs": [
    {
     "name": "stdout",
     "output_type": "stream",
     "text": [
      "[4, 7, 1, 2, 3]\n"
     ]
    }
   ],
   "source": [
    "def rotate_right(lst,n):\n",
    "    n=n%len(lst)\n",
    "    return lst[-n:]+lst[:-n]\n",
    "list_=[1,2,3,4,7]\n",
    "n=2\n",
    "rotate_list=rotate_right(list_,n)\n",
    "print(rotate_list)"
   ]
  },
  {
   "cell_type": "code",
   "execution_count": 2,
   "id": "068512b6-6986-4497-aadf-af122a2d1563",
   "metadata": {},
   "outputs": [
    {
     "name": "stdout",
     "output_type": "stream",
     "text": [
      "[2, 3, 4, 5, 6, 7, 8, 9, 10, 11, 12, 13, 14, 15, 16, 17, 18, 19, 20, 21, 22, 23, 24, 25, 26, 27, 28, 29, 30, 31, 32, 33, 34, 35, 36, 37, 38, 39, 40, 41, 42, 43, 44, 45, 46, 47, 48, 49, 50]\n"
     ]
    }
   ],
   "source": [
    "def prime_numbers(n):\n",
    "    if n<=1:\n",
    "        return False\n",
    "    if n<=3:\n",
    "        return True\n",
    "    if n%2==0 or n%3==0:\n",
    "        return False\n",
    "    i=50\n",
    "    while i*i<=n:\n",
    "        if n%i==0 or n%(i+2)==0:\n",
    "            return False\n",
    "        i+=6\n",
    "    return True    \n",
    "prime_numbers=[num for num in range(2,51)]    \n",
    "print(prime_numbers)    "
   ]
  },
  {
   "cell_type": "code",
   "execution_count": 4,
   "id": "f721c571-8123-4171-8dbe-f2dba0a72b06",
   "metadata": {},
   "outputs": [
    {
     "name": "stdout",
     "output_type": "stream",
     "text": [
      "[1, 2, 3]\n",
      "[4, 5, 6]\n",
      "[7, 8, 9]\n",
      "[88]\n"
     ]
    }
   ],
   "source": [
    "def split_list_into_chunks(input_list, n):\n",
    "    return [input_list[i:i + n] for i in range(0, len(input_list), n)]\n",
    "\n",
    "input_list = [1, 2, 3, 4, 5, 6, 7, 8, 9,88]\n",
    "chunk_size = 3\n",
    "chunks = split_list_into_chunks(input_list, chunk_size)\n",
    "\n",
    "for chunk in chunks:\n",
    "    print(chunk)\n"
   ]
  },
  {
   "cell_type": "code",
   "execution_count": 7,
   "id": "c6292df3-d7a3-473a-96ed-3a14549fe595",
   "metadata": {},
   "outputs": [
    {
     "name": "stdout",
     "output_type": "stream",
     "text": [
      "Second largest number: 25\n",
      "Second largest number: There is no second largest element.\n"
     ]
    }
   ],
   "source": [
    "def find_second_largest(numbers):\n",
    "    if len(numbers) < 2:\n",
    "        return \"The list must contain at least two numbers.\"\n",
    "\n",
    "    largest = float('-inf')  # Initialize with negative infinity\n",
    "    second_largest = float('-inf')\n",
    "\n",
    "    for num in numbers:\n",
    "        if num > largest:\n",
    "            second_largest = largest\n",
    "            largest = num\n",
    "        elif num > second_largest and num != largest:\n",
    "            second_largest = num\n",
    "\n",
    "    if second_largest == float('-inf'):\n",
    "        return \"There is no second largest element.\"\n",
    "    else:\n",
    "        return second_largest\n",
    "\n",
    "numbers = [10, 5, 20, 15, 30, 25]\n",
    "number=[1,1]\n",
    "result = find_second_largest(numbers)\n",
    "print(\"Second largest number:\", result)\n",
    "result1 = find_second_largest(number)\n",
    "print(\"Second largest number:\", result1)\n"
   ]
  },
  {
   "cell_type": "code",
   "execution_count": 8,
   "id": "b10ba2e7-083f-4096-9853-7f211c9233c5",
   "metadata": {},
   "outputs": [
    {
     "name": "stdout",
     "output_type": "stream",
     "text": [
      "Original list: [1, 2, 3, 4, 5]\n",
      "List with squared elements: [1, 4, 9, 16, 25]\n"
     ]
    }
   ],
   "source": [
    "def square_elements(input_list):\n",
    "    return [x ** 2 for x in input_list]\n",
    "\n",
    "original_list = [1, 2, 3, 4, 5]\n",
    "squared_list = square_elements(original_list)\n",
    "\n",
    "print(\"Original list:\", original_list)\n",
    "print(\"List with squared elements:\", squared_list)\n"
   ]
  },
  {
   "cell_type": "code",
   "execution_count": 9,
   "id": "80c98cb0-5107-4cdf-9fde-497594bdd5e7",
   "metadata": {},
   "outputs": [
    {
     "name": "stdout",
     "output_type": "stream",
     "text": [
      "Original list: ['apple', 'banana', 'cherry', 'date']\n",
      "Dictionary with elements as keys and their indices as values: {'apple': 0, 'banana': 1, 'cherry': 2, 'date': 3}\n"
     ]
    }
   ],
   "source": [
    "def list_to_dict_with_indices(input_list):\n",
    "    return {value: index for index, value in enumerate(input_list)}\n",
    "\n",
    "input_list = [\"apple\", \"banana\", \"cherry\", \"date\"]\n",
    "result_dict = list_to_dict_with_indices(input_list)\n",
    "\n",
    "print(\"Original list:\", input_list)\n",
    "print(\"Dictionary with elements as keys and their indices as values:\", result_dict)\n"
   ]
  },
  {
   "cell_type": "code",
   "execution_count": 10,
   "id": "7fd68447-44ab-4d36-b06f-47172a22b2c4",
   "metadata": {},
   "outputs": [
    {
     "name": "stdout",
     "output_type": "stream",
     "text": [
      "Original list: [1, 2, 3, 4, 5]\n",
      "Shuffled list: [5, 4, 1, 2, 3]\n"
     ]
    }
   ],
   "source": [
    "import random\n",
    "\n",
    "def shuffle_list(input_list):\n",
    "    shuffled_list = input_list[:]  \n",
    "    random.shuffle(shuffled_list)\n",
    "    return shuffled_list\n",
    "\n",
    "original_list = [1, 2, 3, 4, 5]\n",
    "shuffled_list = shuffle_list(original_list)\n",
    "\n",
    "print(\"Original list:\", original_list)\n",
    "print(\"Shuffled list:\", shuffled_list)\n"
   ]
  },
  {
   "cell_type": "code",
   "execution_count": 11,
   "id": "84de0b71-1b5f-4ad0-a11e-d0bbac4fa47f",
   "metadata": {},
   "outputs": [
    {
     "name": "stdout",
     "output_type": "stream",
     "text": [
      "First 10 factorial numbers: [1, 1, 2, 6, 24, 120, 720, 5040, 40320, 362880]\n"
     ]
    }
   ],
   "source": [
    "def factorial(n):\n",
    "    if n == 0:\n",
    "        return 1\n",
    "    else:\n",
    "        return n * factorial(n - 1)\n",
    "\n",
    "def first_10_factorial_numbers():\n",
    "    factorial_list = []\n",
    "    for i in range(10):\n",
    "        factorial_list.append(factorial(i))\n",
    "    return factorial_list\n",
    "\n",
    "factorial_numbers = first_10_factorial_numbers()\n",
    "\n",
    "print(\"First 10 factorial numbers:\", factorial_numbers)\n"
   ]
  },
  {
   "cell_type": "code",
   "execution_count": 15,
   "id": "def98f9f-f468-4b90-a713-1a303d1e6565",
   "metadata": {},
   "outputs": [
    {
     "name": "stdout",
     "output_type": "stream",
     "text": [
      "The lists do not have any common elements.\n"
     ]
    }
   ],
   "source": [
    "def have_common_element(list1, list2):\n",
    "    for item1 in list1:\n",
    "        for item2 in list2:\n",
    "            if item1 == item2:\n",
    "                return True\n",
    "    return False\n",
    "\n",
    "list1 = [1, 2, 3, 4, 5]\n",
    "list2 = [88, 6, 7, 8]\n",
    "\n",
    "if have_common_element(list1, list2):\n",
    "    print(\"The lists have at least one element in common.\")\n",
    "else:\n",
    "    print(\"The lists do not have any common elements.\")\n"
   ]
  },
  {
   "cell_type": "code",
   "execution_count": 17,
   "id": "9b94dfd4-daf5-43e8-adc2-f1f24c2543ce",
   "metadata": {},
   "outputs": [
    {
     "name": "stdout",
     "output_type": "stream",
     "text": [
      "None\n"
     ]
    }
   ],
   "source": [
    "my_list = [1, 2, 3, 4, 5]\n",
    "r=my_list.clear()  # Clears the list\n",
    "print(r)"
   ]
  },
  {
   "cell_type": "code",
   "execution_count": 18,
   "id": "150a32d9-e5cd-417d-8e2e-03501f96c9a3",
   "metadata": {},
   "outputs": [
    {
     "name": "stdout",
     "output_type": "stream",
     "text": [
      "Original list: [1, -2, 3, -4, 5]\n",
      "Modified list with negative numbers replaced by 0: [1, 0, 3, 0, 5]\n"
     ]
    }
   ],
   "source": [
    "def replace_negative_with_zero(input_list):\n",
    "    return [x if x >= 0 else 0 for x in input_list]\n",
    "\n",
    "original_list = [1, -2, 3, -4, 5]\n",
    "modified_list = replace_negative_with_zero(original_list)\n",
    "\n",
    "print(\"Original list:\", original_list)\n",
    "print(\"Modified list with negative numbers replaced by 0:\", modified_list)\n"
   ]
  },
  {
   "cell_type": "code",
   "execution_count": 19,
   "id": "33b8d00b-9f3d-483b-b8fb-0389d22d1b3d",
   "metadata": {},
   "outputs": [
    {
     "name": "stdout",
     "output_type": "stream",
     "text": [
      "Original string: This is an example string.\n",
      "List of words: ['This', 'is', 'an', 'example', 'string.']\n"
     ]
    }
   ],
   "source": [
    "def string_to_list_of_words(input_string):\n",
    "    words = input_string.split()\n",
    "    return words\n",
    "\n",
    "input_string = \"This is an example string.\"\n",
    "word_list = string_to_list_of_words(input_string)\n",
    "\n",
    "print(\"Original string:\", input_string)\n",
    "print(\"List of words:\", word_list)\n"
   ]
  },
  {
   "cell_type": "code",
   "execution_count": 20,
   "id": "f427f86f-158f-420d-a65f-73e4bf70aa24",
   "metadata": {},
   "outputs": [
    {
     "name": "stdout",
     "output_type": "stream",
     "text": [
      "List of words: ['This', 'is', 'a', 'list', 'of', 'words']\n",
      "Resulting string: This is a list of words\n"
     ]
    }
   ],
   "source": [
    "def list_of_words_to_string(word_list):\n",
    "    string = ' '.join(word_list)\n",
    "    return string\n",
    "\n",
    "word_list = [\"This\", \"is\", \"a\", \"list\", \"of\", \"words\"]\n",
    "result_string = list_of_words_to_string(word_list)\n",
    "\n",
    "print(\"List of words:\", word_list)\n",
    "print(\"Resulting string:\", result_string)\n"
   ]
  },
  {
   "cell_type": "code",
   "execution_count": 21,
   "id": "ffde825a-c971-43a7-8473-80c204e308b9",
   "metadata": {},
   "outputs": [
    {
     "name": "stdout",
     "output_type": "stream",
     "text": [
      "The first 5 powers of 2 are: [1, 2, 4, 8, 16]\n"
     ]
    }
   ],
   "source": [
    "def powers_of_2(n):\n",
    "    return [2 ** i for i in range(n)]\n",
    "\n",
    "n = 5  \n",
    "power_list = powers_of_2(n)\n",
    "\n",
    "print(f\"The first {n} powers of 2 are:\", power_list)\n"
   ]
  },
  {
   "cell_type": "code",
   "execution_count": 22,
   "id": "3701e010-52fa-46e6-bc5a-c038bbd8d606",
   "metadata": {},
   "outputs": [
    {
     "name": "stdout",
     "output_type": "stream",
     "text": [
      "Longest string: elderberry\n"
     ]
    }
   ],
   "source": [
    "def find_longest_string(string_list):\n",
    "    if not string_list:\n",
    "        return None  \n",
    "\n",
    "    longest_string = max(string_list, key=len)\n",
    "    return longest_string\n",
    "\n",
    "string_list = [\"apple\", \"banana\", \"cherry\", \"date\", \"elderberry\"]\n",
    "longest = find_longest_string(string_list)\n",
    "\n",
    "if longest is not None:\n",
    "    print(\"Longest string:\", longest)\n",
    "else:\n",
    "    print(\"The list is empty.\")\n"
   ]
  },
  {
   "cell_type": "code",
   "execution_count": 23,
   "id": "fdd9ec82-9592-4c25-8226-df00cd51b5e3",
   "metadata": {},
   "outputs": [
    {
     "name": "stdout",
     "output_type": "stream",
     "text": [
      "Shortest string: date\n"
     ]
    }
   ],
   "source": [
    "def find_shortest_string(string_list):\n",
    "    if not string_list:\n",
    "        return None \n",
    "\n",
    "    shortest_string = min(string_list, key=len)\n",
    "    return shortest_string\n",
    "\n",
    "string_list = [\"apple\", \"banana\", \"cherry\", \"date\", \"elderberry\"]\n",
    "shortest = find_shortest_string(string_list)\n",
    "\n",
    "if shortest is not None:\n",
    "    print(\"Shortest string:\", shortest)\n",
    "else:\n",
    "    print(\"The list is empty.\")\n"
   ]
  },
  {
   "cell_type": "code",
   "execution_count": 24,
   "id": "fc2f708e-8978-476a-9a60-8d740ff82a3a",
   "metadata": {},
   "outputs": [
    {
     "name": "stdout",
     "output_type": "stream",
     "text": [
      "The first 5 triangular numbers are: [1, 3, 6, 10, 15]\n"
     ]
    }
   ],
   "source": [
    "def generate_triangular_numbers(n):\n",
    "    return [(i * (i + 1)) // 2 for i in range(1, n + 1)]\n",
    "\n",
    "n = 5 \n",
    "triangular_numbers = generate_triangular_numbers(n)\n",
    "\n",
    "print(f\"The first {n} triangular numbers are:\", triangular_numbers)\n"
   ]
  },
  {
   "cell_type": "code",
   "execution_count": 26,
   "id": "2de44721-61e7-405c-9550-747ee38b0821",
   "metadata": {},
   "outputs": [
    {
     "name": "stdout",
     "output_type": "stream",
     "text": [
      "The sub_list is a subsequence of main_list.\n"
     ]
    }
   ],
   "source": [
    "def is_subsequence(sublist, mainlist):\n",
    "    sub_len = len(sublist)\n",
    "    main_len = len(mainlist)\n",
    "    sub_index = 0\n",
    "\n",
    "    for element in mainlist:\n",
    "        if sublist[sub_index] == element:\n",
    "            sub_index += 1\n",
    "        if sub_index == sub_len:\n",
    "            return True\n",
    "\n",
    "    return sub_index == sub_len\n",
    "\n",
    "main_list = [1, 2, 3, 4, 5, 6, 7]\n",
    "sub_list = [2, 4, 6]\n",
    "\n",
    "if is_subsequence(sub_list, main_list):\n",
    "    print(\"The sub_list is a subsequence of main_list.\")\n",
    "else:\n",
    "    print(\"The sub_list is not a subsequence of main_list.\")\n"
   ]
  },
  {
   "cell_type": "code",
   "execution_count": 27,
   "id": "8ccec902-5d1b-496a-81ef-fad9309cb627",
   "metadata": {},
   "outputs": [
    {
     "name": "stdout",
     "output_type": "stream",
     "text": [
      "Original list: [1, 2, 3, 4, 5]\n",
      "List after swapping elements at indices 1 and 3 : [1, 4, 3, 2, 5]\n"
     ]
    }
   ],
   "source": [
    "def swap_elements_by_indices(input_list, index1, index2):\n",
    "    if 0 <= index1 < len(input_list) and 0 <= index2 < len(input_list):\n",
    "        input_list[index1], input_list[index2] = input_list[index2], input_list[index1]\n",
    "\n",
    "my_list = [1, 2, 3, 4, 5]\n",
    "index1 = 1  # Index of the first element to swap\n",
    "index2 = 3  # Index of the second element to swap\n",
    "\n",
    "print(\"Original list:\", my_list)\n",
    "swap_elements_by_indices(my_list, index1, index2)\n",
    "print(\"List after swapping elements at indices\", index1, \"and\", index2, \":\", my_list)\n"
   ]
  },
  {
   "cell_type": "code",
   "execution_count": null,
   "id": "c77eb8c5-ab2c-4a4a-8b65-5fbc949e1b3d",
   "metadata": {},
   "outputs": [],
   "source": []
  }
 ],
 "metadata": {
  "kernelspec": {
   "display_name": "Python 3 (ipykernel)",
   "language": "python",
   "name": "python3"
  },
  "language_info": {
   "codemirror_mode": {
    "name": "ipython",
    "version": 3
   },
   "file_extension": ".py",
   "mimetype": "text/x-python",
   "name": "python",
   "nbconvert_exporter": "python",
   "pygments_lexer": "ipython3",
   "version": "3.10.8"
  }
 },
 "nbformat": 4,
 "nbformat_minor": 5
}
