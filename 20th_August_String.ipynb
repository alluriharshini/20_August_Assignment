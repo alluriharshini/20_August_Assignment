{
 "cells": [
  {
   "cell_type": "code",
   "execution_count": 1,
   "id": "486430fc-711b-4822-9dc1-f8e9e592c8f9",
   "metadata": {},
   "outputs": [
    {
     "name": "stdout",
     "output_type": "stream",
     "text": [
      "The reverse of the string 'q' is : erutcel nohtyp rof tnemngissa dnoces yM\n"
     ]
    }
   ],
   "source": [
    "q=\"My second assignment for python lecture\"\n",
    "print(\"The reverse of the string 'q' is :\",q[::-1] )\n",
    "#using indexing, if we give the reverse scaling it will give reverse of the sentence"
   ]
  },
  {
   "cell_type": "code",
   "execution_count": 2,
   "id": "caf7a71f-7696-4ccf-8208-aa81c02215ed",
   "metadata": {},
   "outputs": [
    {
     "name": "stdin",
     "output_type": "stream",
     "text": [
      " harshini\n"
     ]
    },
    {
     "name": "stdout",
     "output_type": "stream",
     "text": [
      "harshini is not palindrome\n"
     ]
    }
   ],
   "source": [
    "s=str(input())\n",
    "rs=\"\"\n",
    "#s is a input variable and rs is variable with defined with emty string, for each character in string s adds with rs gives the string s then it is a palindrome\n",
    "for character in s:\n",
    "    rs=character+rs\n",
    "if rs==s:\n",
    "    print(s,\"is palindrome\")\n",
    "else :\n",
    "    print(s,\"is not palindrome\")"
   ]
  },
  {
   "cell_type": "code",
   "execution_count": 3,
   "id": "a4660377-aa4b-4b10-9f01-beeda1ab04e8",
   "metadata": {},
   "outputs": [
    {
     "data": {
      "text/plain": [
       "'HARSHINIALLURI'"
      ]
     },
     "execution_count": 3,
     "metadata": {},
     "output_type": "execute_result"
    }
   ],
   "source": [
    "s=\"harshinialluri\"\n",
    "s.upper()"
   ]
  },
  {
   "cell_type": "code",
   "execution_count": 5,
   "id": "6d9d6c05-1d15-438f-a92d-beab5b6a2e4b",
   "metadata": {},
   "outputs": [
    {
     "data": {
      "text/plain": [
       "'full stack data science'"
      ]
     },
     "execution_count": 5,
     "metadata": {},
     "output_type": "execute_result"
    }
   ],
   "source": [
    "s='FULL STACK DATA SCIENCE'\n",
    "s.lower()"
   ]
  },
  {
   "cell_type": "code",
   "execution_count": 8,
   "id": "408a848f-624d-468d-bcc8-d45ed49bbb12",
   "metadata": {},
   "outputs": [
    {
     "name": "stdin",
     "output_type": "stream",
     "text": [
      " juturu dheeraj\n"
     ]
    },
    {
     "name": "stdout",
     "output_type": "stream",
     "text": [
      "Number of vowels in the given string is:  6\n"
     ]
    }
   ],
   "source": [
    "y=input()\n",
    "v={'a','e','i','o','u','A','E','I','U','O'}\n",
    "#as python is case sensitive I have defined a set which contains vowels in upper and lower cases\n",
    "count = 0\n",
    "# using for loop, character is a reference to a letter in the string and if the character is in the set v count 1\n",
    "for character in y:\n",
    "    if character in v:\n",
    "        count += 1\n",
    "print(\"Number of vowels in the given string is: \", count)"
   ]
  },
  {
   "cell_type": "code",
   "execution_count": 13,
   "id": "7446f5cb-7f0c-45e8-8e04-0c5f2f2de476",
   "metadata": {},
   "outputs": [
    {
     "name": "stdin",
     "output_type": "stream",
     "text": [
      " harshini\n"
     ]
    },
    {
     "name": "stdout",
     "output_type": "stream",
     "text": [
      "Number of constants in the iven string are:  5\n"
     ]
    }
   ],
   "source": [
    "x=input()\n",
    "q={'a','e','i','o','u','A','E','I','U','O'}\n",
    "count=0\n",
    "for char in x:\n",
    "    if char not in q:\n",
    "        count += 1\n",
    "print(\"Number of constants in the iven string are: \",count)        "
   ]
  },
  {
   "cell_type": "code",
   "execution_count": 14,
   "id": "2940e7da-ed40-4bd8-80e3-94e22c2e6339",
   "metadata": {},
   "outputs": [
    {
     "name": "stdin",
     "output_type": "stream",
     "text": [
      " ha  t hss\n"
     ]
    },
    {
     "data": {
      "text/plain": [
       "'hathss'"
      ]
     },
     "execution_count": 14,
     "metadata": {},
     "output_type": "execute_result"
    }
   ],
   "source": [
    "w=input()\n",
    "w.replace(\" \",'')"
   ]
  },
  {
   "cell_type": "code",
   "execution_count": 16,
   "id": "1af6e6c2-4de8-481b-8da4-1e26b99e5edb",
   "metadata": {},
   "outputs": [
    {
     "name": "stdin",
     "output_type": "stream",
     "text": [
      " harshini reddy\n"
     ]
    },
    {
     "name": "stdout",
     "output_type": "stream",
     "text": [
      "The lenth of the string is:  14\n"
     ]
    }
   ],
   "source": [
    "p=input()\n",
    "count=0\n",
    "for ch in p:\n",
    "    count +=1\n",
    "print(\"The lenth of the string is: \",count)    \n",
    "#even the space is counted as a string"
   ]
  },
  {
   "cell_type": "code",
   "execution_count": 17,
   "id": "19952a11-3aca-436c-9749-8b2da8462103",
   "metadata": {},
   "outputs": [
    {
     "name": "stdout",
     "output_type": "stream",
     "text": [
      "Yes\n"
     ]
    }
   ],
   "source": [
    "d=\"A girl named Cinderella lived with her stepmother and two stepsisters.Poor Cinderella had to work hard all day long so the others could rest.\"\n",
    "f=\"work\"\n",
    "if f in d:\n",
    "    print(\"Yes\")\n",
    "else :\n",
    "    print(\"No\")"
   ]
  },
  {
   "cell_type": "code",
   "execution_count": 18,
   "id": "bd5482fc-045d-4932-a0f0-1cd90daab74f",
   "metadata": {},
   "outputs": [
    {
     "data": {
      "text/plain": [
       "'A girl named Cinderella lived with her mother and two stepsisters'"
      ]
     },
     "execution_count": 18,
     "metadata": {},
     "output_type": "execute_result"
    }
   ],
   "source": [
    "t=\"A girl named Cinderella lived with her stepmother and two stepsisters\"\n",
    "t.replace(\"stepmother\",\"mother\")"
   ]
  },
  {
   "cell_type": "code",
   "execution_count": 39,
   "id": "3a88fe18-9cfb-4376-8dea-4594ed0e25ed",
   "metadata": {},
   "outputs": [
    {
     "name": "stdin",
     "output_type": "stream",
     "text": [
      "Enter a string :  A girl named Cinderella lived with her stepmother and two stepsisters\n",
      "Enter the string to check if it is present in above string or not :  and\n"
     ]
    },
    {
     "name": "stdout",
     "output_type": "stream",
     "text": [
      "' and ' It is present in the given string\n"
     ]
    }
   ],
   "source": [
    "u=str(input(\"Enter a string : \"))\n",
    "i=str(input(\"Enter the string to check if it is present in above string or not : \"))\n",
    "if i in u:\n",
    "    print(\"'\",i,\"'\", \"It is present in the given string\")\n",
    "else :\n",
    "    print(i, \"is not present in the given string\")"
   ]
  },
  {
   "cell_type": "code",
   "execution_count": 36,
   "id": "f563c8ad-42a0-4841-b32b-21ba4a0ffe3a",
   "metadata": {},
   "outputs": [
    {
     "name": "stdin",
     "output_type": "stream",
     "text": [
      "Enter a string :  Count the occurrences of a word in a string\n",
      " a\n"
     ]
    },
    {
     "data": {
      "text/plain": [
       "2"
      ]
     },
     "execution_count": 36,
     "metadata": {},
     "output_type": "execute_result"
    }
   ],
   "source": [
    "u=str(input(\"Enter a string : \"))\n",
    "u.count(input())"
   ]
  },
  {
   "cell_type": "code",
   "execution_count": 51,
   "id": "95e53e2b-d378-458e-bcad-a1e01e856384",
   "metadata": {},
   "outputs": [
    {
     "name": "stdout",
     "output_type": "stream",
     "text": [
      "8\n"
     ]
    }
   ],
   "source": [
    "h=\"A girl named Cinderella lived with her stepmother and two stepsisters\"\n",
    "n=h.find(\"a\")\n",
    "print(n)"
   ]
  },
  {
   "cell_type": "code",
   "execution_count": 2,
   "id": "d8afc581-0751-4715-9a47-6bf7b59a7bf6",
   "metadata": {},
   "outputs": [
    {
     "name": "stdout",
     "output_type": "stream",
     "text": [
      "54\n"
     ]
    }
   ],
   "source": [
    "j=\"A girl named Cinderella lived with her stepmother and a stepsisters\"\n",
    "l=j.rfind(\"a\")\n",
    "print(l)"
   ]
  },
  {
   "cell_type": "code",
   "execution_count": 36,
   "id": "11497329-984c-48c0-988e-4a0da0430048",
   "metadata": {},
   "outputs": [
    {
     "name": "stdin",
     "output_type": "stream",
     "text": [
      "Enter a string :  A girl named Cinderella lived with her stepmother and a stepsisters\n"
     ]
    },
    {
     "name": "stdout",
     "output_type": "stream",
     "text": [
      "['A', 'girl', 'named', 'Cinderella', 'lived', 'with', 'her', 'stepmother', 'and', 'a', 'stepsisters']\n"
     ]
    }
   ],
   "source": [
    "k=str(input(\"Enter a string : \"))\n",
    "p=k.split()\n",
    "print(p)"
   ]
  },
  {
   "cell_type": "code",
   "execution_count": 12,
   "id": "cef7a137-de9d-4740-acec-c60af635b0b3",
   "metadata": {},
   "outputs": [
    {
     "name": "stdin",
     "output_type": "stream",
     "text": [
      "Enter a words:  A,girl,named,Cinderella\n"
     ]
    },
    {
     "name": "stdout",
     "output_type": "stream",
     "text": [
      "A girl named Cinderella\n"
     ]
    }
   ],
   "source": [
    "e=str(input(\"Enter a words: \"))\n",
    "b=e.split(\",\")\n",
    "#creating a list of words\n",
    "c=' '.join(b)\n",
    "#joing the list in to a string\n",
    "print(c)"
   ]
  },
  {
   "cell_type": "code",
   "execution_count": 15,
   "id": "991ec570-f223-4537-82b9-041c9b0f2993",
   "metadata": {},
   "outputs": [
    {
     "name": "stdout",
     "output_type": "stream",
     "text": [
      "A_girl_named_Cinderella_lived_with_her_stepmother_and_a_stepsisters\n"
     ]
    }
   ],
   "source": [
    "z=\"A girl named Cinderella lived with her stepmother and a stepsisters\"\n",
    "m=z.replace(\" \",\"_\")\n",
    "print(m)"
   ]
  },
  {
   "cell_type": "code",
   "execution_count": 18,
   "id": "c9b3c38b-09c5-4f60-8252-21633671ff6a",
   "metadata": {},
   "outputs": [
    {
     "data": {
      "text/plain": [
       "True"
      ]
     },
     "execution_count": 18,
     "metadata": {},
     "output_type": "execute_result"
    }
   ],
   "source": [
    "n=\"Something magical was happening in the fish bowl  and he wasn’t  quite ready for what lay in store.\"\n",
    "n.startswith(\"Something\")\n",
    "#startswith function gives true if the word is the starting word else it returns false\n"
   ]
  },
  {
   "cell_type": "code",
   "execution_count": 21,
   "id": "a6cc9107-fcef-49fa-94b5-14576a2c2001",
   "metadata": {},
   "outputs": [
    {
     "data": {
      "text/plain": [
       "True"
      ]
     },
     "execution_count": 21,
     "metadata": {},
     "output_type": "execute_result"
    }
   ],
   "source": [
    "d=\"Something magical was happening in the fish bowl  and he wasn’t  quite ready for what lay in store.\"\n",
    "n.endswith(\".\")"
   ]
  },
  {
   "cell_type": "code",
   "execution_count": 25,
   "id": "cf5983fd-2eb4-4b5e-aaf5-eba1d86fe800",
   "metadata": {},
   "outputs": [
    {
     "name": "stdout",
     "output_type": "stream",
     "text": [
      "Hello World\n"
     ]
    }
   ],
   "source": [
    "p=\"hello world\"\n",
    "s=p.title()\n",
    "print(s)"
   ]
  },
  {
   "cell_type": "code",
   "execution_count": 27,
   "id": "7a83cf08-f3d0-408a-9ecd-0ed548eaf997",
   "metadata": {},
   "outputs": [
    {
     "name": "stdin",
     "output_type": "stream",
     "text": [
      "Enter a String:  Something magical was happening in the fish bowl  and he wasn’t  quite ready for what lay in store.\n"
     ]
    },
    {
     "name": "stdout",
     "output_type": "stream",
     "text": [
      "Longest word:  Something\n",
      "Position of Longest word:  0\n"
     ]
    }
   ],
   "source": [
    "str = input(\"Enter a String: \")\n",
    "# Split the string to a list of words\n",
    "word = str.split()\n",
    "# Find the longest word\n",
    "longestword = max(word, key = len)\n",
    "# Find the position (index) of longest word\n",
    "pos = str.index(longestword)\n",
    "# Print the longest word and it's position\n",
    "print(\"Longest word: \",longestword)\n",
    "print(\"Position of Longest word: \", pos)"
   ]
  },
  {
   "cell_type": "code",
   "execution_count": 29,
   "id": "e4edc20b-a6dd-4794-a0ce-73c79b74436a",
   "metadata": {},
   "outputs": [
    {
     "name": "stdin",
     "output_type": "stream",
     "text": [
      "enter a string :  Something magical was happening in the fish bowl  and he wasn’t  quite ready for what lay in store.\n"
     ]
    },
    {
     "name": "stdout",
     "output_type": "stream",
     "text": [
      "Smallest word :  in\n"
     ]
    }
   ],
   "source": [
    "j = input(\"enter a string : \")\n",
    "word=str.split()\n",
    "smallword=min(word, key=len)\n",
    "print(\"Smallest word : \",smallword)"
   ]
  },
  {
   "cell_type": "code",
   "execution_count": 31,
   "id": "9ed5d9f9-a9ce-4aaf-b837-b86b5532b459",
   "metadata": {},
   "outputs": [
    {
     "name": "stdin",
     "output_type": "stream",
     "text": [
      "enter a string :  harshini\n"
     ]
    },
    {
     "name": "stdout",
     "output_type": "stream",
     "text": [
      "inihsrah\n"
     ]
    }
   ],
   "source": [
    "u = input(\"enter a string : \")\n",
    "reverse = u[::-1]\n",
    "print(reverse)"
   ]
  },
  {
   "cell_type": "code",
   "execution_count": 33,
   "id": "aa32172e-5c12-4fcb-a9ff-4c9eb447145f",
   "metadata": {},
   "outputs": [
    {
     "name": "stdin",
     "output_type": "stream",
     "text": [
      " ha\n"
     ]
    },
    {
     "name": "stdout",
     "output_type": "stream",
     "text": [
      "True\n"
     ]
    }
   ],
   "source": [
    "utm=input()\n",
    "num=utm.isalnum()\n",
    "print(num)"
   ]
  },
  {
   "cell_type": "code",
   "execution_count": 11,
   "id": "b8c423d9-c5c2-4b0c-a418-425a19c39cc5",
   "metadata": {},
   "outputs": [
    {
     "name": "stdin",
     "output_type": "stream",
     "text": [
      " harshini has 4 dogs and 6 hens\n"
     ]
    },
    {
     "name": "stdout",
     "output_type": "stream",
     "text": [
      "The enterned string is :  harshini has 4 dogs and 6 hens\n",
      "numbers list in the above string :  [4, 6]\n"
     ]
    }
   ],
   "source": [
    "dig=input()\n",
    "print(\"The enterned string is : \",dig)\n",
    "ext=[int(i) for i in dig.split() if i.isdigit()]\n",
    "print(\"numbers list in the above string : \",ext)"
   ]
  },
  {
   "cell_type": "code",
   "execution_count": 3,
   "id": "a2d387bd-a99a-4fdb-9ab4-b211705d62d9",
   "metadata": {},
   "outputs": [
    {
     "name": "stdin",
     "output_type": "stream",
     "text": [
      "enter the string:  harshini 1234\n"
     ]
    },
    {
     "name": "stdout",
     "output_type": "stream",
     "text": [
      "entered string is :  harshini 1234\n",
      "Aphabets in the string are :  ['harshini']\n"
     ]
    }
   ],
   "source": [
    "alpha=input(\"enter the string: \")\n",
    "print(\"entered string is : \",alpha)\n",
    "al=[str(j) for j in alpha.split() if j.isalpha()  ]\n",
    "print(\"Aphabets in the string are : \", al)"
   ]
  },
  {
   "cell_type": "code",
   "execution_count": 14,
   "id": "a8acef7b-3d3b-4c27-adef-e5435e900da8",
   "metadata": {},
   "outputs": [
    {
     "name": "stdin",
     "output_type": "stream",
     "text": [
      "enter the string:  Harshini ALLURI reddy\n"
     ]
    },
    {
     "name": "stdout",
     "output_type": "stream",
     "text": [
      "the upper letters in the string are :  7\n"
     ]
    }
   ],
   "source": [
    "string= input(\"enter the string: \")\n",
    "upper=0\n",
    "for k in string:\n",
    "    if(k.isupper()):\n",
    "        upper+=1\n",
    "print(\"the upper letters in the string are : \",upper)        "
   ]
  },
  {
   "cell_type": "code",
   "execution_count": 17,
   "id": "56d1a466-17e4-49af-97eb-3728281f8efe",
   "metadata": {},
   "outputs": [
    {
     "name": "stdin",
     "output_type": "stream",
     "text": [
      "Enter the string:  Harshini REDDY ALLURI\n"
     ]
    },
    {
     "name": "stdout",
     "output_type": "stream",
     "text": [
      "the lower letters in the string are :  7\n"
     ]
    }
   ],
   "source": [
    "Lowerstring=input(\"Enter the string: \")\n",
    "Lower=0\n",
    "for l in Lowerstring:\n",
    "    if l.islower():\n",
    "        Lower+=1\n",
    "print(\"the lower letters in the string are : \",Lower)        "
   ]
  },
  {
   "cell_type": "code",
   "execution_count": 22,
   "id": "8b763f0f-242c-42d6-93e3-b6c31c4edf68",
   "metadata": {},
   "outputs": [
    {
     "name": "stdin",
     "output_type": "stream",
     "text": [
      " Harshini REDDY\n"
     ]
    },
    {
     "name": "stdout",
     "output_type": "stream",
     "text": [
      "upper to lower :  hARSHINI reddy\n"
     ]
    }
   ],
   "source": [
    "st=input()\n",
    "print(\"upper to lower : \",st.swapcase())        "
   ]
  },
  {
   "cell_type": "code",
   "execution_count": 30,
   "id": "36ad7e83-c159-4e14-b21e-2dd4b0a63962",
   "metadata": {},
   "outputs": [
    {
     "name": "stdin",
     "output_type": "stream",
     "text": [
      "The original entered string : Harshini is a girl\n",
      "enter a word to remove a\n"
     ]
    },
    {
     "name": "stdout",
     "output_type": "stream",
     "text": [
      "The altered string is :  Hrshini is  girl\n"
     ]
    }
   ],
   "source": [
    "ty=input(\"The original entered string :\")\n",
    "re=input(\"enter a word to remove\")\n",
    "remove = ty.replace(re,'')\n",
    "print(\"The altered string is : \",remove)"
   ]
  },
  {
   "cell_type": "code",
   "execution_count": 62,
   "id": "2332de9d-9ed6-4c81-8cdb-c8287647b5ba",
   "metadata": {},
   "outputs": [
    {
     "name": "stdin",
     "output_type": "stream",
     "text": [
      " harshini\n"
     ]
    }
   ],
   "source": [
    "import re\n",
    "\n",
    "def check(s):\n",
    "    pat = r'\\b[A-Za-z0-9._%+-]+@[A-Za-z0-9.-]+\\.[A-Z|a-z]{2,7}\\b'\n",
    "    if re.match(pat,s):\n",
    "        print(\"Valid Email\")\n",
    "    else:\n",
    "        print(\"Invalid Email\")\n",
    "s=input()        \n"
   ]
  },
  {
   "cell_type": "code",
   "execution_count": 50,
   "id": "a6fbb2db-d0b6-473e-b5a0-df3a0035ae6e",
   "metadata": {},
   "outputs": [
    {
     "name": "stdin",
     "output_type": "stream",
     "text": [
      "Enter an email address: harshini.alluri@highradius.vom\n"
     ]
    },
    {
     "name": "stdout",
     "output_type": "stream",
     "text": [
      "harshini.alluri@highradius.vom\n",
      "harshini.alluri\n"
     ]
    }
   ],
   "source": [
    "bn=input(\"Enter an email address:\")\n",
    "print(bn)\n",
    "yu=bn.split('@')\n",
    "result=bn.split('@')[0]\n",
    "print(result)"
   ]
  },
  {
   "cell_type": "code",
   "execution_count": 2,
   "id": "86b59614-ce93-4ee4-9e6e-8ee57753f974",
   "metadata": {},
   "outputs": [
    {
     "name": "stdin",
     "output_type": "stream",
     "text": [
      "Enter an email address to check :  harshini.com\n"
     ]
    },
    {
     "name": "stdout",
     "output_type": "stream",
     "text": [
      "harshini.com is not a valid email address.\n"
     ]
    }
   ],
   "source": [
    "import re\n",
    "\n",
    "def is_valid_email(email):\n",
    "    # Define a regular expression pattern for a basic email address format\n",
    "    pattern = r'^[\\w\\.-]+@[\\w\\.-]+$'\n",
    "\n",
    "    # Use re.match to check if the email matches the pattern\n",
    "    if re.match(pattern, email):\n",
    "        return True\n",
    "    else:\n",
    "        return False\n",
    "\n",
    "email = input(\"Enter an email address to check : \")\n",
    "if is_valid_email(email):\n",
    "    print(f\"{email} is a valid email address.\")\n",
    "else:\n",
    "    print(f\"{email} is not a valid email address.\")\n"
   ]
  },
  {
   "cell_type": "code",
   "execution_count": 4,
   "id": "7dfe8fb4-1343-414c-b7e0-d2d9682db0be",
   "metadata": {},
   "outputs": [
    {
     "name": "stdin",
     "output_type": "stream",
     "text": [
      "Enter an email address to check :  harshini@gmail.com\n"
     ]
    },
    {
     "name": "stdout",
     "output_type": "stream",
     "text": [
      "The username in the email address is: harshini\n"
     ]
    }
   ],
   "source": [
    "def extract_username(email):\n",
    "    # Split the email address at the \"@\" symbol\n",
    "    parts = email.split('@')\n",
    "\n",
    "    # Check if the email address has the \"@\" symbol\n",
    "    if len(parts) == 2:\n",
    "        return parts[0]  # The username is the part before the \"@\"\n",
    "    else:\n",
    "        return None  # Return None if the email address is not in the expected format\n",
    "\n",
    "email =input(\"Enter an email address to check : \")\n",
    "username = extract_username(email)\n",
    "if username is not None:\n",
    "    print(f\"The username in the email address is: {username}\")\n",
    "else:\n",
    "    print(\"Invalid email address format.\")\n"
   ]
  },
  {
   "cell_type": "code",
   "execution_count": 5,
   "id": "d3a20775-a443-4410-95af-a6f867fe434b",
   "metadata": {},
   "outputs": [
    {
     "name": "stdin",
     "output_type": "stream",
     "text": [
      "Enter an email address to check :  harshini@gmail.com\n"
     ]
    },
    {
     "name": "stdout",
     "output_type": "stream",
     "text": [
      "The username in the email address is: gmail.com\n"
     ]
    }
   ],
   "source": [
    "def extract_username(email):\n",
    "    # Split the email address at the \"@\" symbol\n",
    "    parts = email.split('@')\n",
    "\n",
    "    # Check if the email address has the \"@\" symbol\n",
    "    if len(parts) == 2:\n",
    "        return parts[1]  # The username is the part before the \"@\"\n",
    "    else:\n",
    "        return None  # Return None if the email address is not in the expected format\n",
    "\n",
    "email =input(\"Enter an email address to check : \")\n",
    "username = extract_username(email)\n",
    "if username is not None:\n",
    "    print(f\"The username in the email address is: {username}\")\n",
    "else:\n",
    "    print(\"Invalid email address format.\")\n"
   ]
  },
  {
   "cell_type": "code",
   "execution_count": 7,
   "id": "82f4f8c9-b34a-4d86-ae6a-a9a78dfbc2d6",
   "metadata": {},
   "outputs": [
    {
     "name": "stdout",
     "output_type": "stream",
     "text": [
      "This is a string with multiple spaces.\n"
     ]
    }
   ],
   "source": [
    "import re\n",
    "\n",
    "def replace_multiple_spaces_with_single_space(input_string):\n",
    "    cleaned_string = re.sub(r'\\s+', ' ', input_string)\n",
    "    return cleaned_string\n",
    "\n",
    "original_string = \"This   is   a   string    with  multiple   spaces.\"\n",
    "cleaned_string = replace_multiple_spaces_with_single_space(original_string)\n",
    "print(cleaned_string)\n"
   ]
  },
  {
   "cell_type": "code",
   "execution_count": 10,
   "id": "359b5fef-1392-4895-a886-9679ecd9361e",
   "metadata": {},
   "outputs": [
    {
     "name": "stdout",
     "output_type": "stream",
     "text": [
      "Valid URL\n"
     ]
    }
   ],
   "source": [
    "from urllib.parse import urlparse\n",
    "\n",
    "def is_valid_url(url):\n",
    "    try:\n",
    "        result = urlparse(url)\n",
    "        return all([result.scheme, result.netloc])\n",
    "    except ValueError:\n",
    "        return False\n",
    "\n",
    "url = \"https://www.example.com\"\n",
    "#url=\"https://www.example\" ---- invalid\n",
    "if is_valid_url(url):\n",
    "    print(\"Valid URL\")\n",
    "else:\n",
    "    print(\"Invalid URL\")\n"
   ]
  },
  {
   "cell_type": "code",
   "execution_count": 12,
   "id": "8b99f465-c44e-4b6d-84a1-c79ab177c6a6",
   "metadata": {},
   "outputs": [
    {
     "name": "stdout",
     "output_type": "stream",
     "text": [
      "Protocol: https\n"
     ]
    }
   ],
   "source": [
    "from urllib.parse import urlparse\n",
    "\n",
    "def extract_protocol(url):\n",
    "    parsed_url = urlparse(url)\n",
    "    return parsed_url.scheme\n",
    "\n",
    "url = \"https://www.example.com\"\n",
    "protocol = extract_protocol(url)\n",
    "print(\"Protocol:\", protocol)\n"
   ]
  },
  {
   "cell_type": "code",
   "execution_count": 13,
   "id": "91e8ebb0-10bd-43e3-a0b9-ed2b3b0e2976",
   "metadata": {},
   "outputs": [
    {
     "name": "stdout",
     "output_type": "stream",
     "text": [
      "'H': 1\n",
      "'e': 1\n",
      "'l': 3\n",
      "'o': 2\n",
      "',': 1\n",
      "' ': 1\n",
      "'W': 1\n",
      "'r': 1\n",
      "'d': 1\n",
      "'!': 1\n"
     ]
    }
   ],
   "source": [
    "def count_characters(input_string):\n",
    "    character_count = {}\n",
    "\n",
    "    for char in input_string:\n",
    "        if char in character_count:\n",
    "            character_count[char] += 1\n",
    "        else:\n",
    "            character_count[char] = 1\n",
    "\n",
    "    return character_count\n",
    "\n",
    "input_string = \"Hello, World!\"\n",
    "character_frequency = count_characters(input_string)\n",
    "for char, count in character_frequency.items():\n",
    "    print(f\"'{char}': {count}\")\n"
   ]
  },
  {
   "cell_type": "code",
   "execution_count": 17,
   "id": "0a1791d2-2698-454c-bf25-fa270e6a0dcb",
   "metadata": {},
   "outputs": [
    {
     "name": "stdout",
     "output_type": "stream",
     "text": [
      "Original string: Hello, World! This is an example' string;: with punctuation.\n",
      "String with punctuation removed: Hello World This is an example string with punctuation\n",
      "Removed punctuation: ,!';:.\n"
     ]
    }
   ],
   "source": [
    "import string\n",
    "\n",
    "def remove_punctuation_and_return_punctuation(input_string):\n",
    "    translator = str.maketrans('', '', string.punctuation)\n",
    "\n",
    "    cleaned_string = input_string.translate(translator)\n",
    "\n",
    "    removed_punctuation = ''.join(char for char in input_string if char in string.punctuation)\n",
    "\n",
    "    return cleaned_string, removed_punctuation\n",
    "\n",
    "input_string = \"Hello, World! This is an example' string;: with punctuation.\"\n",
    "cleaned_string, removed_punctuation = remove_punctuation_and_return_punctuation(input_string)\n",
    "\n",
    "print(\"Original string:\", input_string)\n",
    "print(\"String with punctuation removed:\", cleaned_string)\n",
    "print(\"Removed punctuation:\", removed_punctuation)\n"
   ]
  },
  {
   "cell_type": "code",
   "execution_count": 23,
   "id": "990ca0de-a2c5-4f72-bc39-c6ee6e09b023",
   "metadata": {},
   "outputs": [
    {
     "name": "stdout",
     "output_type": "stream",
     "text": [
      "The string '12345harshunoi' contains non-digit characters.\n",
      "The string '12345' contains only digits.\n"
     ]
    }
   ],
   "source": [
    "def contains_only_digits(input_string):\n",
    "    return input_string.isdigit()\n",
    "\n",
    "input_string = \"12345harshunoi\"\n",
    "input_string1 = \"12345\"\n",
    "\n",
    "if contains_only_digits(input_string):\n",
    "    print(f\"The string '{input_string}' contains only digits.\")\n",
    "else:\n",
    "    print(f\"The string '{input_string}' contains non-digit characters.\")\n",
    "    \n",
    "if contains_only_digits(input_string1):\n",
    "    print(f\"The string '{input_string1}' contains only digits.\")\n",
    "else:\n",
    "    print(f\"The string '{input_string1}' contains non-digit characters.\")\n"
   ]
  },
  {
   "cell_type": "code",
   "execution_count": 25,
   "id": "8ac89732-de2f-41b7-91a8-dcd3bb7c2948",
   "metadata": {},
   "outputs": [
    {
     "name": "stdout",
     "output_type": "stream",
     "text": [
      "The string 'Hello' contains only alphabets.\n",
      "The string 'Hello123' contains non-alphabet characters.\n"
     ]
    }
   ],
   "source": [
    "def contains_only_alphabets(input_string):\n",
    "    return input_string.isalpha()\n",
    "\n",
    "input_string = \"Hello\"\n",
    "input_string1 = \"Hello123\"\n",
    "\n",
    "if contains_only_alphabets(input_string):\n",
    "    print(f\"The string '{input_string}' contains only alphabets.\")\n",
    "else:\n",
    "    print(f\"The string '{input_string}' contains non-alphabet characters.\")\n",
    "if contains_only_alphabets(input_string1):\n",
    "    print(f\"The string '{input_string1}' contains only alphabets.\")\n",
    "else:\n",
    "    print(f\"The string '{input_string1}' contains non-alphabet characters.\")\n"
   ]
  },
  {
   "cell_type": "code",
   "execution_count": 26,
   "id": "57ef72dc-dec0-4ece-9fdd-9860a8936485",
   "metadata": {},
   "outputs": [
    {
     "name": "stdout",
     "output_type": "stream",
     "text": [
      "['H', 'e', 'l', 'l', 'o', ',', ' ', 'W', 'o', 'r', 'l', 'd', '!']\n"
     ]
    }
   ],
   "source": [
    "input_string = \"Hello, World!\"\n",
    "character_list = [char for char in input_string]\n",
    "\n",
    "print(character_list)\n"
   ]
  },
  {
   "cell_type": "code",
   "execution_count": 27,
   "id": "d1b1aa75-0002-40ae-b6c2-cfd4ee7db679",
   "metadata": {},
   "outputs": [
    {
     "name": "stdout",
     "output_type": "stream",
     "text": [
      "'listen' and 'silent' are anagrams.\n"
     ]
    }
   ],
   "source": [
    "def are_anagrams(str1, str2):\n",
    "    str1 = str1.replace(\" \", \"\").lower()\n",
    "    str2 = str2.replace(\" \", \"\").lower()\n",
    "\n",
    "    if len(str1) != len(str2):\n",
    "        return False\n",
    "\n",
    "    char_count_str1 = {}\n",
    "    char_count_str2 = {}\n",
    "\n",
    "    for char in str1:\n",
    "        if char in char_count_str1:\n",
    "            char_count_str1[char] += 1\n",
    "        else:\n",
    "            char_count_str1[char] = 1\n",
    "\n",
    "    for char in str2:\n",
    "        if char in char_count_str2:\n",
    "            char_count_str2[char] += 1\n",
    "        else:\n",
    "            char_count_str2[char] = 1\n",
    "\n",
    "    return char_count_str1 == char_count_str2\n",
    "\n",
    "string1 = \"listen\"\n",
    "string2 = \"silent\"\n",
    "\n",
    "if are_anagrams(string1, string2):\n",
    "    print(f\"'{string1}' and '{string2}' are anagrams.\")\n",
    "else:\n",
    "    print(f\"'{string1}' and '{string2}' are not anagrams.\")\n"
   ]
  },
  {
   "cell_type": "code",
   "execution_count": 28,
   "id": "72f3b915-883e-417c-821d-4e9912438fd0",
   "metadata": {},
   "outputs": [
    {
     "name": "stdout",
     "output_type": "stream",
     "text": [
      "Original string: Hello, World!\n",
      "Encoded string (with a shift of 3): Khoor, Zruog!\n"
     ]
    }
   ],
   "source": [
    "def caesar_cipher_encode(input_string, shift):\n",
    "    encoded_string = \"\"\n",
    "\n",
    "    for char in input_string:\n",
    "        if char.isalpha():\n",
    "            is_upper = char.isupper()\n",
    "\n",
    "            char_code = ord(char) + shift\n",
    "\n",
    "            if is_upper:\n",
    "                if char_code > ord('Z'):\n",
    "                    char_code -= 26\n",
    "                elif char_code < ord('A'):\n",
    "                    char_code += 26\n",
    "            else:\n",
    "                if char_code > ord('z'):\n",
    "                    char_code -= 26\n",
    "                elif char_code < ord('a'):\n",
    "                    char_code += 26\n",
    "\n",
    "            encoded_char = chr(char_code)\n",
    "            encoded_string += encoded_char\n",
    "        else:\n",
    "            encoded_string += char\n",
    "\n",
    "    return encoded_string\n",
    "\n",
    "input_string = \"Hello, World!\"\n",
    "shift = 3\n",
    "encoded_string = caesar_cipher_encode(input_string, shift)\n",
    "\n",
    "print(\"Original string:\", input_string)\n",
    "print(f\"Encoded string (with a shift of {shift}):\", encoded_string)\n"
   ]
  },
  {
   "cell_type": "code",
   "execution_count": 29,
   "id": "b0a4f074-0eed-479f-909c-c4e3d758169d",
   "metadata": {},
   "outputs": [
    {
     "name": "stdout",
     "output_type": "stream",
     "text": [
      "Encoded string: Khoor, Zruog!\n",
      "Decoded string (with a shift of 3): Hello, World!\n"
     ]
    }
   ],
   "source": [
    "def caesar_cipher_decode(encoded_string, shift):\n",
    "    decoded_string = \"\"\n",
    "\n",
    "    for char in encoded_string:\n",
    "        if char.isalpha():\n",
    "            is_upper = char.isupper()\n",
    "\n",
    "            char_code = ord(char) - shift\n",
    "\n",
    "            if is_upper:\n",
    "                if char_code < ord('A'):\n",
    "                    char_code += 26\n",
    "                elif char_code > ord('Z'):\n",
    "                    char_code -= 26\n",
    "            else:\n",
    "                if char_code < ord('a'):\n",
    "                    char_code += 26\n",
    "                elif char_code > ord('z'):\n",
    "                    char_code -= 26\n",
    "\n",
    "            decoded_char = chr(char_code)\n",
    "            decoded_string += decoded_char\n",
    "        else:\n",
    "            decoded_string += char\n",
    "\n",
    "    return decoded_string\n",
    "\n",
    "encoded_string = \"Khoor, Zruog!\"\n",
    "shift = 3\n",
    "decoded_string = caesar_cipher_decode(encoded_string, shift)\n",
    "\n",
    "print(\"Encoded string:\", encoded_string)\n",
    "print(f\"Decoded string (with a shift of {shift}):\", decoded_string)\n"
   ]
  },
  {
   "cell_type": "code",
   "execution_count": 33,
   "id": "7dc9ba55-757e-429a-8c2b-38d33cfebf52",
   "metadata": {},
   "outputs": [
    {
     "name": "stdout",
     "output_type": "stream",
     "text": [
      "Most frequent word: test\n"
     ]
    }
   ],
   "source": [
    "def most_frequent_word(input_string):\n",
    "    input_string = input_string.lower()\n",
    "    input_string = ''.join(char for char in input_string if char.isalnum() or char.isspace())\n",
    "\n",
    "    words = input_string.split()\n",
    "\n",
    "    word_frequency = {}\n",
    "\n",
    "    for word in words:\n",
    "        if word in word_frequency:\n",
    "            word_frequency[word] += 1\n",
    "        else:\n",
    "            word_frequency[word] = 1\n",
    "\n",
    "    most_frequent = max(word_frequency, key=word_frequency.get)\n",
    "\n",
    "    return most_frequent\n",
    "\n",
    "input_string = \"This is a test. This is only a test. Test, test, test.\"\n",
    "most_frequent = most_frequent_word(input_string)\n",
    "\n",
    "print(\"Most frequent word:\", most_frequent)\n"
   ]
  },
  {
   "cell_type": "code",
   "execution_count": 35,
   "id": "4b8dd9bf-6757-41b6-ba67-6106a4d1d491",
   "metadata": {},
   "outputs": [
    {
     "name": "stdout",
     "output_type": "stream",
     "text": [
      "Unique words: ['only', 'a', 'this', 'test', 'is']\n"
     ]
    }
   ],
   "source": [
    "def unique_words(input_string):\n",
    "    input_string = input_string.lower()\n",
    "    input_string = ''.join(char for char in input_string if char.isalnum() or char.isspace())\n",
    "\n",
    "    words = input_string.split()\n",
    "\n",
    "    unique_word_set = set(words)\n",
    "\n",
    "    return list(unique_word_set)\n",
    "input_string = \"This is a test. This is only a test. Test, test, test.\"\n",
    "unique_words_list = unique_words(input_string)\n",
    "\n",
    "print(\"Unique words:\", unique_words_list)\n"
   ]
  },
  {
   "cell_type": "code",
   "execution_count": 36,
   "id": "8b168930-4375-45ad-a639-6263a6291b47",
   "metadata": {},
   "outputs": [
    {
     "name": "stdout",
     "output_type": "stream",
     "text": [
      "The word 'syllables' has 3 syllables.\n"
     ]
    }
   ],
   "source": [
    "def count_syllables(word):\n",
    "    vowels = \"aeiouy\"\n",
    "    word = word.lower()\n",
    "    count = 0\n",
    "    previous_char = None\n",
    "\n",
    "    for char in word:\n",
    "        if char in vowels and (previous_char is None or previous_char not in vowels):\n",
    "            count += 1\n",
    "        previous_char = char\n",
    "\n",
    "    if word.endswith(\"e\"):\n",
    "        count -= 1\n",
    "\n",
    "    if count == 0:\n",
    "        count = 1\n",
    "\n",
    "    return count\n",
    "\n",
    "word = \"syllables\"\n",
    "syllable_count = count_syllables(word)\n",
    "\n",
    "print(f\"The word '{word}' has {syllable_count} syllables.\")\n"
   ]
  },
  {
   "cell_type": "code",
   "execution_count": 37,
   "id": "792f4939-c2d5-47d4-a9b5-99eb3c544002",
   "metadata": {},
   "outputs": [
    {
     "name": "stdout",
     "output_type": "stream",
     "text": [
      "The string contains special characters.\n"
     ]
    }
   ],
   "source": [
    "import re\n",
    "\n",
    "def contains_special_characters(input_string):\n",
    "    pattern = r'[!@#$%^&*()_+{}\\[\\]:;\"\\'<>,.?/\\|\\\\]'\n",
    "\n",
    "    match = re.search(pattern, input_string)\n",
    "\n",
    "    return match is not None\n",
    "\n",
    "input_string = \"Hello, World!\"\n",
    "if contains_special_characters(input_string):\n",
    "    print(\"The string contains special characters.\")\n",
    "else:\n",
    "    print(\"The string does not contain special characters.\")\n"
   ]
  },
  {
   "cell_type": "code",
   "execution_count": 41,
   "id": "f725869d-0433-4c58-9f2e-bd4f738a8160",
   "metadata": {},
   "outputs": [
    {
     "name": "stdin",
     "output_type": "stream",
     "text": [
      "Enter a number where the letter to be removed :  5\n"
     ]
    },
    {
     "name": "stdout",
     "output_type": "stream",
     "text": [
      "Original string: This is an example sentence to demonstrate removing a word.\n",
      "Modified string: This is an example to demonstrate removing a word.\n"
     ]
    }
   ],
   "source": [
    "def remove_nth_word(input_string, n):\n",
    "    words = input_string.split()\n",
    "\n",
    "    if 1 <= n <= len(words):\n",
    "        del words[n - 1]\n",
    "\n",
    "        modified_string = ' '.join(words)\n",
    "\n",
    "        return modified_string\n",
    "    else:\n",
    "        return input_string\n",
    "\n",
    "input_string = \"This is an example sentence to demonstrate removing a word.\"\n",
    "n = int(input(\"Enter a number where the letter to be removed : \"))\n",
    "\n",
    "result = remove_nth_word(input_string, n)\n",
    "print(\"Original string:\", input_string)\n",
    "print(\"Modified string:\", result)\n"
   ]
  },
  {
   "cell_type": "code",
   "execution_count": 43,
   "id": "b1d7845e-7d80-4420-9e7e-1847713ec551",
   "metadata": {},
   "outputs": [
    {
     "name": "stdin",
     "output_type": "stream",
     "text": [
      "Enter a word that needs to be inserted in the sentence:  harshini\n",
      "Enter the position where the inserted word to be put in :  2\n"
     ]
    },
    {
     "name": "stdout",
     "output_type": "stream",
     "text": [
      "Original string: This is an example sentence.\n",
      "Modified string: This is harshini an example sentence.\n"
     ]
    }
   ],
   "source": [
    "def insert_word_at_nth_position(input_string, word_to_insert, n):\n",
    "    words = input_string.split()\n",
    "\n",
    "    if 0 <= n <= len(words):\n",
    "        words.insert(n, word_to_insert)\n",
    "\n",
    "        modified_string = ' '.join(words)\n",
    "\n",
    "        return modified_string\n",
    "    else:\n",
    "        return input_string\n",
    "\n",
    "input_string = \"This is an example sentence.\"\n",
    "word_to_insert = input(\"Enter a word that needs to be inserted in the sentence: \")\n",
    "n = int(input(\"Enter the position where the inserted word to be put in : \"))  \n",
    "\n",
    "result = insert_word_at_nth_position(input_string, word_to_insert, n)\n",
    "print(\"Original string:\", input_string)\n",
    "print(\"Modified string:\", result)\n"
   ]
  },
  {
   "cell_type": "code",
   "execution_count": 45,
   "id": "acc4a236-38f3-4c93-8be6-a45dd2de54d8",
   "metadata": {},
   "outputs": [
    {
     "name": "stdout",
     "output_type": "stream",
     "text": [
      "['Name', 'Age', 'Location']\n",
      "['Alice', '30', '\"New York, NY\"']\n",
      "['Bob', '25', '\"San Francisco, CA\"']\n"
     ]
    }
   ],
   "source": [
    "def csv_string_to_list_of_lists(csv_string):\n",
    "    rows = []\n",
    "    current_row = []\n",
    "    within_quotes = False\n",
    "    current_value = \"\"\n",
    "\n",
    "    for char in csv_string:\n",
    "        if char == ',' and not within_quotes:\n",
    "            current_row.append(current_value.strip())\n",
    "            current_value = \"\"\n",
    "        elif char == '\\n' and not within_quotes:\n",
    "            current_row.append(current_value.strip())\n",
    "            rows.append(current_row)\n",
    "            current_row = []\n",
    "            current_value = \"\"\n",
    "        else:\n",
    "            if char == '\"':\n",
    "                within_quotes = not within_quotes\n",
    "            current_value += char\n",
    "\n",
    "    if current_value:\n",
    "        current_row.append(current_value.strip())\n",
    "\n",
    "    if current_row:\n",
    "        rows.append(current_row)\n",
    "\n",
    "    return rows\n",
    "\n",
    "csv_string = 'Name,Age,Location\\nAlice,30,\"New York, NY\"\\nBob,25,\"San Francisco, CA\"\\n'\n",
    "\n",
    "list_of_lists = csv_string_to_list_of_lists(csv_string)\n",
    "for row in list_of_lists:\n",
    "    print(row)\n"
   ]
  },
  {
   "cell_type": "code",
   "execution_count": null,
   "id": "b496c704-7ac7-460a-9304-01b697fc0f2d",
   "metadata": {},
   "outputs": [],
   "source": []
  }
 ],
 "metadata": {
  "kernelspec": {
   "display_name": "Python 3 (ipykernel)",
   "language": "python",
   "name": "python3"
  },
  "language_info": {
   "codemirror_mode": {
    "name": "ipython",
    "version": 3
   },
   "file_extension": ".py",
   "mimetype": "text/x-python",
   "name": "python",
   "nbconvert_exporter": "python",
   "pygments_lexer": "ipython3",
   "version": "3.10.8"
  }
 },
 "nbformat": 4,
 "nbformat_minor": 5
}
