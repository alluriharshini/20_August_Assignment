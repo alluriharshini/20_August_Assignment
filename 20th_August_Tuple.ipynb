{
 "cells": [
  {
   "cell_type": "code",
   "execution_count": 2,
   "id": "add0f13d-4199-460b-a67e-bfca6119f644",
   "metadata": {},
   "outputs": [
    {
     "name": "stdout",
     "output_type": "stream",
     "text": [
      "(1, 2, 3, 4, 5)\n"
     ]
    }
   ],
   "source": [
    "my_tuple=(1,2,3,4,5)\n",
    "print(my_tuple)"
   ]
  },
  {
   "cell_type": "code",
   "execution_count": 3,
   "id": "b495d57c-ba53-4826-a4e2-71b84bd31c6f",
   "metadata": {},
   "outputs": [
    {
     "name": "stdout",
     "output_type": "stream",
     "text": [
      "3\n"
     ]
    }
   ],
   "source": [
    "my_tuple=(1,2,3,4,5)\n",
    "print(my_tuple[2])"
   ]
  },
  {
   "cell_type": "code",
   "execution_count": 4,
   "id": "47817a2d-8f1f-4cf7-bcde-6fe57e7287f9",
   "metadata": {},
   "outputs": [
    {
     "name": "stdout",
     "output_type": "stream",
     "text": [
      "Lenghth =  5\n"
     ]
    }
   ],
   "source": [
    "my_tuple=(1,2,3,4,5)\n",
    "length=0\n",
    "for i in my_tuple:\n",
    "    length+=1\n",
    "print(\"Lenghth = \", length)    "
   ]
  },
  {
   "cell_type": "code",
   "execution_count": 6,
   "id": "379f907d-92d1-49f3-8d46-ffd792e4a4a4",
   "metadata": {},
   "outputs": [
    {
     "name": "stdout",
     "output_type": "stream",
     "text": [
      "Occurrences of 2 in (1, 2, 3, 4, 5, 2) is 2\n"
     ]
    }
   ],
   "source": [
    "my_tuple=(1,2,3,4,5,2)\n",
    "element=2\n",
    "count=my_tuple.count(element)\n",
    "print(f\"Occurrences of {element} in {my_tuple} is {count}\")"
   ]
  },
  {
   "cell_type": "code",
   "execution_count": 7,
   "id": "656eae99-0eb9-42bf-967a-1b439f82391f",
   "metadata": {},
   "outputs": [
    {
     "name": "stdout",
     "output_type": "stream",
     "text": [
      "Occurrences of 2 in (1, 2, 3, 4, 5, 2) is 1\n"
     ]
    }
   ],
   "source": [
    "my_tuple=(1,2,3,4,5,2)\n",
    "element=2\n",
    "count=my_tuple.index(element)\n",
    "print(f\"Occurrences of {element} in {my_tuple} is {count}\")"
   ]
  },
  {
   "cell_type": "code",
   "execution_count": 9,
   "id": "c8d68446-3d48-4044-b74a-98df6ecec15a",
   "metadata": {},
   "outputs": [
    {
     "name": "stdout",
     "output_type": "stream",
     "text": [
      "2 is in (1, 2, 3, 4, 5, 2)\n"
     ]
    }
   ],
   "source": [
    "my_tuple=(1,2,3,4,5,2)\n",
    "element=2\n",
    "if element in my_tuple:\n",
    "    print(f\"{element} is in {my_tuple}\")\n",
    "else:\n",
    "        print(f\"{element} is not in {my_tuple}\")"
   ]
  },
  {
   "cell_type": "code",
   "execution_count": 11,
   "id": "7b8f2000-2d75-4aa7-9774-3d74856a0b48",
   "metadata": {},
   "outputs": [
    {
     "data": {
      "text/plain": [
       "list"
      ]
     },
     "execution_count": 11,
     "metadata": {},
     "output_type": "execute_result"
    }
   ],
   "source": [
    "my_tuple=(1,2,3,4,5,2)\n",
    "\n",
    "type(list(my_tuple))"
   ]
  },
  {
   "cell_type": "code",
   "execution_count": 12,
   "id": "b3fe72c6-bcf8-46fd-9789-e09dd0fe3bf9",
   "metadata": {},
   "outputs": [
    {
     "data": {
      "text/plain": [
       "tuple"
      ]
     },
     "execution_count": 12,
     "metadata": {},
     "output_type": "execute_result"
    }
   ],
   "source": [
    "my_list=[1,2,3]\n",
    "type(tuple(my_list))"
   ]
  },
  {
   "cell_type": "code",
   "execution_count": 13,
   "id": "a21154de-ab4c-4116-be74-bf916593a8d0",
   "metadata": {},
   "outputs": [
    {
     "name": "stdout",
     "output_type": "stream",
     "text": [
      "1\n",
      "2\n",
      "3\n"
     ]
    }
   ],
   "source": [
    "my_tuple=(1,2,3)\n",
    "for i in my_tuple:\n",
    "    print(i)"
   ]
  },
  {
   "cell_type": "code",
   "execution_count": 14,
   "id": "8ae4a3e4-77a1-4ac1-b4f4-2e66fa3e1b16",
   "metadata": {},
   "outputs": [
    {
     "name": "stdout",
     "output_type": "stream",
     "text": [
      "(2, 4, 6, 8, 10)\n"
     ]
    }
   ],
   "source": [
    "numbers=range(1,11)\n",
    "even_numbers=tuple(filter(lambda x:x%2==0,numbers))\n",
    "print(even_numbers)"
   ]
  },
  {
   "cell_type": "code",
   "execution_count": 15,
   "id": "2b67f6ef-4e2a-4579-a8a7-0bd28fcd0afc",
   "metadata": {},
   "outputs": [
    {
     "name": "stdout",
     "output_type": "stream",
     "text": [
      "(1, 3, 5, 7, 9)\n"
     ]
    }
   ],
   "source": [
    "numbers=range(1,11)\n",
    "even_numbers=tuple(filter(lambda x:x%2!=0,numbers))\n",
    "print(even_numbers)"
   ]
  },
  {
   "cell_type": "code",
   "execution_count": 16,
   "id": "a9b4da0a-3ab9-4519-9928-223a19275247",
   "metadata": {},
   "outputs": [
    {
     "name": "stdout",
     "output_type": "stream",
     "text": [
      "(1, 2, 3, 1, 2, 3, 4, 5, 2)\n"
     ]
    }
   ],
   "source": [
    "my_tuple=(1,2,3)\n",
    "my_tuple_1=(1,2,3,4,5,2)\n",
    "concatenate=my_tuple+my_tuple_1\n",
    "print(concatenate)"
   ]
  },
  {
   "cell_type": "code",
   "execution_count": 17,
   "id": "725002a1-9980-4e69-8936-81c71649ffa7",
   "metadata": {},
   "outputs": [
    {
     "name": "stdout",
     "output_type": "stream",
     "text": [
      "(1, 2, 3, 4, 5, 1, 2, 3, 4, 5, 1, 2, 3, 4, 5)\n"
     ]
    }
   ],
   "source": [
    "my_tuple=(1,2,3,4,5)\n",
    "n= 3*(1,2,3,4,5)\n",
    "print(n)"
   ]
  },
  {
   "cell_type": "code",
   "execution_count": 24,
   "id": "be4654ee-1dc1-4bf0-99ef-a47764dae6db",
   "metadata": {},
   "outputs": [
    {
     "name": "stdout",
     "output_type": "stream",
     "text": [
      "my_tuple_1 it is an empty tuple\n",
      "my_tuple It is not an empty tuple\n"
     ]
    }
   ],
   "source": [
    "my_tuple=(1)\n",
    "my_tuple_1=()\n",
    "if not my_tuple_1:\n",
    "    print(\"my_tuple_1 it is an empty tuple\")\n",
    "else:\n",
    "    print(\"my_tuple_1 It is not an empty tuple\")\n",
    "if not my_tuple:\n",
    "    print(f\"my_tuple it is an empty tuple\")\n",
    "else:\n",
    "    print(\"my_tuple It is not an empty tuple\")    "
   ]
  },
  {
   "cell_type": "code",
   "execution_count": 25,
   "id": "97c82660-fbae-43ee-9426-9920cbefe212",
   "metadata": {},
   "outputs": [
    {
     "name": "stdout",
     "output_type": "stream",
     "text": [
      "((1, 2), (3, 4))\n"
     ]
    }
   ],
   "source": [
    "nested_tuple=((1,2),(3,4))\n",
    "print(nested_tuple)"
   ]
  },
  {
   "cell_type": "code",
   "execution_count": 26,
   "id": "e0bd95e0-92a7-4ae1-acc6-e437011fd5dc",
   "metadata": {},
   "outputs": [
    {
     "name": "stdout",
     "output_type": "stream",
     "text": [
      "1\n"
     ]
    }
   ],
   "source": [
    "nested_tuple=((1,2),(3,4))\n",
    "first_nested_element = nested_tuple[0][0]\n",
    "print(first_nested_element)"
   ]
  },
  {
   "cell_type": "code",
   "execution_count": 29,
   "id": "03c49082-12ec-44cc-94c6-ed7da7cff654",
   "metadata": {},
   "outputs": [
    {
     "name": "stdout",
     "output_type": "stream",
     "text": [
      "(1,)\n"
     ]
    }
   ],
   "source": [
    "my_tuple=(1,)\n",
    "print(my_tuple)"
   ]
  },
  {
   "cell_type": "code",
   "execution_count": 31,
   "id": "491d12a1-a33a-4d3a-bb8a-114898e7ea58",
   "metadata": {},
   "outputs": [
    {
     "name": "stdout",
     "output_type": "stream",
     "text": [
      "both are not equal\n"
     ]
    }
   ],
   "source": [
    "my_tuple=(1,2,3)\n",
    "my_tuple_1=(1,2,3,4,5,2)\n",
    "if my_tuple==my_tuple_1:\n",
    "    print(\"both are equal\")\n",
    "elif my_tuple!=my_tuple_1:\n",
    "    print(\"both are not equal\")\n",
    "elif my_tuple>my_tuple_1:\n",
    "    print(\"my_tuple is graeter than my_tuple_1\")\n",
    "else:\n",
    "    print(\"Enter valid tuples\")"
   ]
  },
  {
   "cell_type": "code",
   "execution_count": 32,
   "id": "28338708-3e4b-44d6-a04c-45816a5fd353",
   "metadata": {},
   "outputs": [],
   "source": [
    "my_tuple=(1,2,3)\n",
    "del my_tuple"
   ]
  },
  {
   "cell_type": "code",
   "execution_count": 38,
   "id": "a1212e75-c840-4213-97c2-f0782a9a9c5f",
   "metadata": {},
   "outputs": [
    {
     "name": "stdout",
     "output_type": "stream",
     "text": [
      "(3,)\n"
     ]
    }
   ],
   "source": [
    "my_tuple=(1,2,3)\n",
    "#sliced_tuple=my_tuple[start:stop:step]\n",
    "slic_ele=my_tuple[2:4]\n",
    "print(slic_ele)"
   ]
  },
  {
   "cell_type": "code",
   "execution_count": 39,
   "id": "c1278dd6-ada5-4d87-bc5c-71b2d0a8acb7",
   "metadata": {},
   "outputs": [
    {
     "name": "stdout",
     "output_type": "stream",
     "text": [
      "3\n"
     ]
    }
   ],
   "source": [
    "my_tuple=(1,2,3)\n",
    "max_el=max(my_tuple)\n",
    "print(max_el)"
   ]
  },
  {
   "cell_type": "code",
   "execution_count": 40,
   "id": "1fd4ce10-001e-43b4-81e0-f010c0dde46f",
   "metadata": {},
   "outputs": [
    {
     "name": "stdout",
     "output_type": "stream",
     "text": [
      "1\n"
     ]
    }
   ],
   "source": [
    "my_tuple=(1,2,3)\n",
    "max_el=min(my_tuple)\n",
    "print(max_el)"
   ]
  },
  {
   "cell_type": "code",
   "execution_count": 41,
   "id": "5766a641-5229-4d65-8c57-0912b06d187d",
   "metadata": {},
   "outputs": [
    {
     "name": "stdout",
     "output_type": "stream",
     "text": [
      "('H', 'a', 'r', 's', 'h', 'i', 'n', 'i')\n"
     ]
    }
   ],
   "source": [
    "my_string=\"Harshini\"\n",
    "char_tup=tuple(my_string)\n",
    "print(char_tup)"
   ]
  },
  {
   "cell_type": "code",
   "execution_count": 43,
   "id": "ff264c99-622b-4b76-9083-058d90523823",
   "metadata": {},
   "outputs": [
    {
     "name": "stdout",
     "output_type": "stream",
     "text": [
      "Harshini\n"
     ]
    }
   ],
   "source": [
    "my_tuple=('H', 'a', 'r', 's', 'h', 'i', 'n', 'i')\n",
    "\n",
    "char_tup=''.join(my_tuple)\n",
    "print(char_tup)"
   ]
  },
  {
   "cell_type": "code",
   "execution_count": 44,
   "id": "07698e21-3e41-4275-9987-f7c979845463",
   "metadata": {},
   "outputs": [
    {
     "name": "stdout",
     "output_type": "stream",
     "text": [
      "(11, 'a', 11.1, [1, 2, 3], {'i': 1, 'n': 11})\n"
     ]
    }
   ],
   "source": [
    "my_tuple=(11, 'a', 11.1, [1,2,3], {'i':'Yes', 'n':11, 'i':1})\n",
    "print(my_tuple)"
   ]
  },
  {
   "cell_type": "code",
   "execution_count": 45,
   "id": "8e02b885-5d1c-4b5d-a5bf-0da7b1cd65bd",
   "metadata": {},
   "outputs": [
    {
     "name": "stdout",
     "output_type": "stream",
     "text": [
      "not identical\n"
     ]
    }
   ],
   "source": [
    "my_tuple=(1,2,3)\n",
    "my_tuple_1=(1,2,3,4,5,2)\n",
    "if my_tuple==my_tuple_1:\n",
    "    print(\"both are identical\")\n",
    "else :\n",
    "    print(\"not identical\")"
   ]
  },
  {
   "cell_type": "code",
   "execution_count": 47,
   "id": "68a54550-36c5-4cb3-9bb2-37b87d23f3f1",
   "metadata": {},
   "outputs": [
    {
     "name": "stdout",
     "output_type": "stream",
     "text": [
      "(1, 2, 3, 11, 23, 44)\n"
     ]
    }
   ],
   "source": [
    "my_tuple=(11,23,44,1,2,3)\n",
    "sort_tuple=sorted(my_tuple)\n",
    "sort_tuple_=tuple(sort_tuple)\n",
    "print(sort_tuple_)"
   ]
  },
  {
   "cell_type": "code",
   "execution_count": 48,
   "id": "88360717-9ca4-4f65-b4c6-bf7d1b8d4434",
   "metadata": {},
   "outputs": [
    {
     "name": "stdout",
     "output_type": "stream",
     "text": [
      "('1', '2', '3')\n"
     ]
    }
   ],
   "source": [
    "tuple_=(1,2,3)\n",
    "tuple_of_str=tuple(str(x) for x in tuple_)\n",
    "print(tuple_of_str)"
   ]
  },
  {
   "cell_type": "code",
   "execution_count": 49,
   "id": "da6d3870-23c8-423e-bd88-21b96890567d",
   "metadata": {},
   "outputs": [
    {
     "name": "stdout",
     "output_type": "stream",
     "text": [
      "(1, 2, 3)\n"
     ]
    }
   ],
   "source": [
    "tuple_=('1', '2', '3')\n",
    "\n",
    "tuple_of_str=tuple(int(x) for x in tuple_)\n",
    "print(tuple_of_str)"
   ]
  },
  {
   "cell_type": "code",
   "execution_count": 50,
   "id": "907a1bd0-441b-4545-b307-5d8da8bb976e",
   "metadata": {},
   "outputs": [
    {
     "name": "stdout",
     "output_type": "stream",
     "text": [
      "(1, 2, 3, 1, 2, 3, 4, 5, 2)\n"
     ]
    }
   ],
   "source": [
    "my_tuple=(1,2,3)\n",
    "my_tuple_1=(1,2,3,4,5,2)\n",
    "mergring=my_tuple+my_tuple_1\n",
    "print(mergring)"
   ]
  },
  {
   "cell_type": "code",
   "execution_count": 56,
   "id": "99fce339-947d-41ac-a111-4a4268bf8d3f",
   "metadata": {},
   "outputs": [
    {
     "name": "stdout",
     "output_type": "stream",
     "text": [
      "(3, 4, 56, 44, 1, 2)\n"
     ]
    }
   ],
   "source": [
    "def  flatten_tuple(nested_tuple):\n",
    "    flattened=[]\n",
    "    stack=list(nested_tuple)\n",
    "    while stack:\n",
    "        current=stack.pop()\n",
    "        if isinstance(current,tuple):\n",
    "            stack.extend(reversed(current))\n",
    "        else:\n",
    "            flattened.append(current)\n",
    "    return tuple(flattened)     \n",
    "nested_tuple=((1,2),44,(3,4,56))\n",
    "flattened_tuple=flatten_tuple(nested_tuple)\n",
    "print(flattened_tuple)"
   ]
  },
  {
   "cell_type": "code",
   "execution_count": 57,
   "id": "17df3761-e936-4bcb-a273-b64d04f06038",
   "metadata": {},
   "outputs": [
    {
     "name": "stdout",
     "output_type": "stream",
     "text": [
      "(2, 3, 5, 7, 11)\n"
     ]
    }
   ],
   "source": [
    "def is_prime(num):\n",
    "    if num<2:\n",
    "        return False\n",
    "    for i in range(2,int(num**0.5)+1):\n",
    "        if num%i==0:\n",
    "            return False\n",
    "    return True\n",
    "prime_numbers=[]\n",
    "number=2\n",
    "while len(prime_numbers)<5:\n",
    "    if is_prime(number):\n",
    "        prime_numbers.append(number)\n",
    "    number+=1\n",
    "prime_tuple=tuple(prime_numbers)\n",
    "print(prime_tuple)"
   ]
  },
  {
   "cell_type": "code",
   "execution_count": 61,
   "id": "d20ed817-e146-48cd-bfc3-17d984363b8b",
   "metadata": {},
   "outputs": [
    {
     "name": "stdout",
     "output_type": "stream",
     "text": [
      "Tuple is a palindrome\n"
     ]
    }
   ],
   "source": [
    "def is_palindrome(my_tuple):\n",
    "    return my_tuple==my_tuple[::-1]\n",
    "my_tuple=(1,2,3,4,3,2,1)\n",
    "if is_palindrome(my_tuple):\n",
    "    print(\"Tuple is a palindrome\")\n",
    "else:\n",
    "    print(\"Tuple is not palindrome\")"
   ]
  },
  {
   "cell_type": "code",
   "execution_count": 14,
   "id": "7b3ac7b0-d546-46c9-af42-cb0c975b6402",
   "metadata": {},
   "outputs": [
    {
     "name": "stdout",
     "output_type": "stream",
     "text": [
      "(1, 4, 9, 16, 25)\n"
     ]
    }
   ],
   "source": [
    "my_tuple=[]\n",
    "for i in range(1,6):\n",
    "    i_=i**2\n",
    "    my_tuple.append(i_)\n",
    "print(tuple(my_tuple))\n",
    "    "
   ]
  },
  {
   "cell_type": "code",
   "execution_count": 18,
   "id": "c00865ab-046b-4aad-96d7-b4d1f1ac1ce4",
   "metadata": {},
   "outputs": [
    {
     "name": "stdout",
     "output_type": "stream",
     "text": [
      "(2, 4, 6, 8, 12, 22, 44)\n"
     ]
    }
   ],
   "source": [
    "my_tuple=(1,2,3,4,5,6,7,8,9,11,12,22,33,44,55)\n",
    "even_numbers=tuple(filter(lambda x:x%2==0,my_tuple))\n",
    "print(even_numbers)"
   ]
  },
  {
   "cell_type": "code",
   "execution_count": 19,
   "id": "1f906758-9706-41a7-9788-5f554df3d31c",
   "metadata": {},
   "outputs": [
    {
     "name": "stdout",
     "output_type": "stream",
     "text": [
      "(2, 4, 6, 8, 10, 12, 14, 16, 18, 22, 24, 44, 66, 88, 110)\n"
     ]
    }
   ],
   "source": [
    "my_tuple=(1,2,3,4,5,6,7,8,9,11,12,22,33,44,55)\n",
    "multiply=tuple(x*2 for x in my_tuple)\n",
    "print(multiply)"
   ]
  },
  {
   "cell_type": "code",
   "execution_count": 3,
   "id": "2aac6c14-98a0-4130-b28f-236556738b31",
   "metadata": {},
   "outputs": [
    {
     "name": "stdout",
     "output_type": "stream",
     "text": [
      "(60, 27, 31)\n"
     ]
    }
   ],
   "source": [
    "import random\n",
    "\n",
    "random_numbers = (random.randint(1, 100), random.randint(1, 100), random.randint(1, 100))\n",
    "\n",
    "print(random_numbers)\n"
   ]
  },
  {
   "cell_type": "code",
   "execution_count": 4,
   "id": "59a00933-63fa-4cf9-a8b4-df6b45238d26",
   "metadata": {},
   "outputs": [
    {
     "name": "stdout",
     "output_type": "stream",
     "text": [
      "The tuple is sorted.\n"
     ]
    }
   ],
   "source": [
    "def is_sorted_tuple(t):\n",
    "    return t == tuple(sorted(t))\n",
    "my_tuple = (1, 3, 5, 7, 9)\n",
    "is_sorted = is_sorted_tuple(my_tuple)\n",
    "\n",
    "if is_sorted:\n",
    "    print(\"The tuple is sorted.\")\n",
    "else:\n",
    "    print(\"The tuple is not sorted.\")\n"
   ]
  },
  {
   "cell_type": "code",
   "execution_count": 5,
   "id": "d21f2b17-cf3e-48f5-bf53-d1e2fa4fa1d0",
   "metadata": {},
   "outputs": [
    {
     "name": "stdout",
     "output_type": "stream",
     "text": [
      "Original Tuple: (1, 2, 3, 4, 5)\n",
      "Rotated Tuple (2 positions left): (3, 4, 5, 1, 2)\n"
     ]
    }
   ],
   "source": [
    "def rotate_tuple_left(t, n):\n",
    "    n = n % len(t)  \n",
    "    return t[n:] + t[:n]\n",
    "\n",
    "original_tuple = (1, 2, 3, 4, 5)\n",
    "n = 2 \n",
    "rotated_tuple = rotate_tuple_left(original_tuple, n)\n",
    "\n",
    "print(\"Original Tuple:\", original_tuple)\n",
    "print(f\"Rotated Tuple ({n} positions left):\", rotated_tuple)\n"
   ]
  },
  {
   "cell_type": "code",
   "execution_count": 6,
   "id": "f2c956ee-7462-4861-80ce-754499e1b301",
   "metadata": {},
   "outputs": [
    {
     "name": "stdout",
     "output_type": "stream",
     "text": [
      "Original Tuple: (1, 2, 3, 4, 5)\n",
      "Rotated Tuple (2 positions right): (4, 5, 1, 2, 3)\n"
     ]
    }
   ],
   "source": [
    "def rotate_tuple_right(t, n):\n",
    "    n = n % len(t)  \n",
    "    return t[-n:] + t[:-n]\n",
    "\n",
    "original_tuple = (1, 2, 3, 4, 5)\n",
    "n = 2  \n",
    "rotated_tuple = rotate_tuple_right(original_tuple, n)\n",
    "\n",
    "print(\"Original Tuple:\", original_tuple)\n",
    "print(f\"Rotated Tuple ({n} positions right):\", rotated_tuple)\n"
   ]
  },
  {
   "cell_type": "code",
   "execution_count": 7,
   "id": "97fadc10-b44b-48ec-b552-c6a1195a1d0f",
   "metadata": {},
   "outputs": [
    {
     "name": "stdout",
     "output_type": "stream",
     "text": [
      "(0, 1, 1, 2, 3)\n"
     ]
    }
   ],
   "source": [
    "def generate_fibonacci(n):\n",
    "    fibonacci = [0, 1]\n",
    "    while len(fibonacci) < n:\n",
    "        next_number = fibonacci[-1] + fibonacci[-2]\n",
    "        fibonacci.append(next_number)\n",
    "    return tuple(fibonacci)\n",
    "\n",
    "fibonacci_tuple = generate_fibonacci(5)\n",
    "\n",
    "print(fibonacci_tuple)\n"
   ]
  },
  {
   "cell_type": "code",
   "execution_count": 8,
   "id": "5abf1cf2-c740-4905-850c-1ddf6c756027",
   "metadata": {},
   "outputs": [
    {
     "name": "stdin",
     "output_type": "stream",
     "text": [
      "Enter values separated by spaces:  1 2 3 4\n"
     ]
    },
    {
     "name": "stdout",
     "output_type": "stream",
     "text": [
      "Tuple from user input: ('1', '2', '3', '4')\n"
     ]
    }
   ],
   "source": [
    "user_input = input(\"Enter values separated by spaces: \")\n",
    "\n",
    "input_list = user_input.split()\n",
    "\n",
    "user_tuple = tuple(input_list)\n",
    "\n",
    "print(\"Tuple from user input:\", user_tuple)\n"
   ]
  },
  {
   "cell_type": "code",
   "execution_count": 9,
   "id": "8b07b55f-35a9-4d6b-912a-14bbbcab864b",
   "metadata": {},
   "outputs": [
    {
     "name": "stdout",
     "output_type": "stream",
     "text": [
      "Original Tuple: (1, 2, 3, 4, 5)\n",
      "Tuple after swapping elements: (2, 1, 3, 4, 5)\n"
     ]
    }
   ],
   "source": [
    "my_tuple = (1, 2, 3, 4, 5)\n",
    "\n",
    "tuple_list = list(my_tuple)\n",
    "\n",
    "index1, index2 = 0, 1\n",
    "tuple_list[index1], tuple_list[index2] = tuple_list[index2], tuple_list[index1]\n",
    "\n",
    "swapped_tuple = tuple(tuple_list)\n",
    "\n",
    "print(\"Original Tuple:\", my_tuple)\n",
    "print(\"Tuple after swapping elements:\", swapped_tuple)\n"
   ]
  },
  {
   "cell_type": "code",
   "execution_count": 10,
   "id": "e776c4cf-eb0a-47a0-8c6b-a2bf1cb95bd0",
   "metadata": {},
   "outputs": [
    {
     "name": "stdout",
     "output_type": "stream",
     "text": [
      "Original Tuple: (1, 2, 3, 4, 5)\n",
      "Reversed Tuple: (5, 4, 3, 2, 1)\n"
     ]
    }
   ],
   "source": [
    "my_tuple = (1, 2, 3, 4, 5)\n",
    "reversed_tuple = tuple(reversed(my_tuple))\n",
    "\n",
    "print(\"Original Tuple:\", my_tuple)\n",
    "print(\"Reversed Tuple:\", reversed_tuple)\n"
   ]
  },
  {
   "cell_type": "code",
   "execution_count": 11,
   "id": "43e39d82-d2d1-4d4c-8983-bd8f4f3177ee",
   "metadata": {},
   "outputs": [
    {
     "name": "stdout",
     "output_type": "stream",
     "text": [
      "(1, 2, 4, 8, 16)\n"
     ]
    }
   ],
   "source": [
    "n = 5 \n",
    "powers_of_2_tuple = tuple(2**i for i in range(n))\n",
    "\n",
    "print(powers_of_2_tuple)\n"
   ]
  },
  {
   "cell_type": "code",
   "execution_count": 12,
   "id": "b27fb5f0-2c94-4d27-86e5-0e24373642b7",
   "metadata": {},
   "outputs": [
    {
     "name": "stdout",
     "output_type": "stream",
     "text": [
      "Longest String: banana\n"
     ]
    }
   ],
   "source": [
    "string_tuple = (\"apple\", \"banana\", \"cherry\", \"date\", \"fig\", \"grape\")\n",
    "\n",
    "longest_string = \"\"\n",
    "\n",
    "for string in string_tuple:\n",
    "    if len(string) > len(longest_string):\n",
    "        longest_string = string\n",
    "\n",
    "print(\"Longest String:\", longest_string)\n"
   ]
  },
  {
   "cell_type": "code",
   "execution_count": 13,
   "id": "4d3c4285-e9f6-4281-9ea2-325f990b8573",
   "metadata": {},
   "outputs": [
    {
     "name": "stdout",
     "output_type": "stream",
     "text": [
      "Shortest String: fig\n"
     ]
    }
   ],
   "source": [
    "string_tuple = (\"apple\", \"banana\", \"cherry\", \"date\", \"fig\", \"grape\")\n",
    "\n",
    "shortest_string = None\n",
    "for string in string_tuple:\n",
    "    if shortest_string is None or len(string) < len(shortest_string):\n",
    "        shortest_string = string\n",
    "\n",
    "print(\"Shortest String:\", shortest_string)\n"
   ]
  },
  {
   "cell_type": "code",
   "execution_count": 14,
   "id": "618cfd8c-d60f-4032-b05a-e63bc79fac5c",
   "metadata": {},
   "outputs": [
    {
     "name": "stdout",
     "output_type": "stream",
     "text": [
      "(1, 3, 6, 10, 15)\n"
     ]
    }
   ],
   "source": [
    "n = 5  \n",
    "triangular_numbers_tuple = tuple((i * (i + 1)) // 2 for i in range(1, n + 1))\n",
    "\n",
    "print(triangular_numbers_tuple)\n"
   ]
  },
  {
   "cell_type": "code",
   "execution_count": 15,
   "id": "ba646677-7458-4af3-a796-c918103d4c5a",
   "metadata": {},
   "outputs": [
    {
     "name": "stdout",
     "output_type": "stream",
     "text": [
      "The main tuple contains the subsequence.\n"
     ]
    }
   ],
   "source": [
    "def contains_subsequence(main_tuple, sub_tuple):\n",
    "    if len(sub_tuple) == 0:\n",
    "        return True \n",
    "    if len(main_tuple) < len(sub_tuple):\n",
    "        return False  \n",
    "    for i in range(len(main_tuple) - len(sub_tuple) + 1):\n",
    "        if main_tuple[i:i + len(sub_tuple)] == sub_tuple:\n",
    "            return True\n",
    "\n",
    "    return False\n",
    "main_tuple = (1, 2, 3, 4, 5, 6, 7, 8)\n",
    "sub_tuple = (3, 4, 5)\n",
    "\n",
    "if contains_subsequence(main_tuple, sub_tuple):\n",
    "    print(\"The main tuple contains the subsequence.\")\n",
    "else:\n",
    "    print(\"The main tuple does not contain the subsequence.\")\n"
   ]
  },
  {
   "cell_type": "code",
   "execution_count": 16,
   "id": "e403a7a8-5712-4eea-8ec9-e94e7805b454",
   "metadata": {},
   "outputs": [
    {
     "name": "stdout",
     "output_type": "stream",
     "text": [
      "(1, 0, 1, 0, 1, 0, 1, 0, 1, 0)\n"
     ]
    }
   ],
   "source": [
    "n = 10  \n",
    "alternating_tuple = tuple(1 if i % 2 == 0 else 0 for i in range(n))\n",
    "\n",
    "print(alternating_tuple)\n"
   ]
  },
  {
   "cell_type": "code",
   "execution_count": null,
   "id": "48a977cb-132d-48a5-966c-5642b1e7cef1",
   "metadata": {},
   "outputs": [],
   "source": []
  }
 ],
 "metadata": {
  "kernelspec": {
   "display_name": "Python 3 (ipykernel)",
   "language": "python",
   "name": "python3"
  },
  "language_info": {
   "codemirror_mode": {
    "name": "ipython",
    "version": 3
   },
   "file_extension": ".py",
   "mimetype": "text/x-python",
   "name": "python",
   "nbconvert_exporter": "python",
   "pygments_lexer": "ipython3",
   "version": "3.10.8"
  }
 },
 "nbformat": 4,
 "nbformat_minor": 5
}
